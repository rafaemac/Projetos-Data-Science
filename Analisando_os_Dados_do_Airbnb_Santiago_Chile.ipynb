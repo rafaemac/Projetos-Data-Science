{
  "nbformat": 4,
  "nbformat_minor": 0,
  "metadata": {
    "colab": {
      "name": "Analisando os Dados do Airbnb - Santiago, Chile.ipynb",
      "provenance": [],
      "collapsed_sections": [],
      "include_colab_link": true
    },
    "kernelspec": {
      "name": "python3",
      "display_name": "Python 3"
    }
  },
  "cells": [
    {
      "cell_type": "markdown",
      "metadata": {
        "id": "view-in-github",
        "colab_type": "text"
      },
      "source": [
        "<a href=\"https://colab.research.google.com/github/rafaemac/Projetos-Data-Science/blob/main/Analisando_os_Dados_do_Airbnb_Santiago_Chile.ipynb\" target=\"_parent\"><img src=\"https://colab.research.google.com/assets/colab-badge.svg\" alt=\"Open In Colab\"/></a>"
      ]
    },
    {
      "cell_type": "markdown",
      "metadata": {
        "id": "kLI0gJtzDGuQ"
      },
      "source": [
        "<img alt=\"Colaboratory logo\" width=\"15%\" src=\"https://raw.githubusercontent.com/carlosfab/escola-data-science/master/img/novo_logo_bg_claro.png\">\n",
        "\n",
        "#### **Data Science na Prática 3.0**\n",
        "*by [Rafael Machado](https://medium.com/@rmalmeida2)*\n",
        "\n",
        "---\n",
        "\n",
        "# Análise dos Dados do Airbnb - *Santiago, Chile*\n",
        "\n",
        "O [Airbnb](https://www.airbnb.com.br/) já é considerado como sendo a **maior empresa hoteleira da atualidade**. Ah, o detalhe é que ele **não possui nenhum hotel**!\n",
        "\n",
        "Conectando pessoas que querem viajar (e se hospedar) com anfitriões que querem alugar seus imóveis de maneira prática, o Airbnb fornece uma plataforma inovadora para tornar essa hospedagem alternativa.\n",
        "\n",
        "No final de 2018, a Startup fundada 10 anos atrás, já havia **hospedado mais de 300 milhões** de pessoas ao redor de todo o mundo, desafiando as redes hoteleiras tradicionais.\n",
        "\n",
        "Uma das iniciativas do Airbnb é disponibilizar dados do site, para algumas das principais cidades do mundo. Por meio do portal [Inside Airbnb](http://insideairbnb.com/get-the-data.html), é possível baixar uma grande quantidade de dados para desenvolver projetos e soluções de *Data Science*.\n",
        "\n",
        "<center><img alt=\"Analisando Airbnb\" width=\"10%\" src=\"https://www.area360.com.au/wp-content/uploads/2017/09/airbnb-logo.jpg\"></center>\n",
        "\n",
        "\n",
        "\n",
        "\n",
        "<center><img alt=\"Santiago\" width=\"80%\" src=\"https://a5k5v6q9.stackpathcdn.com/wp-content/uploads/2016/06/santiago-do-chile-panoramica.jpg\"></center>\n",
        "\n",
        "\n",
        "##Santiago, Chile\n",
        "\n",
        "Santiago, capital e maior cidade do Chile, fica em um vale circundado pelos Andes, cobertos pela neve e a cadeia de montanhas chilena. Com 5,6 milhões de habitantes, a cidade pode ser visitada em qualquer época do ano: para os amantes do inverno, as temperaturas médias chegam aos 3°C na parte mais fria do ano, e aos 30°C no verão.\n",
        "\n",
        "Para os turistas que estão de passagem por lá, Santiago apresenta uma enorme variedade de passeios, parques, restaurantes e monumentos para se visitar. Com um sistema de metrôs eficientes, a cidade permite conciliar gastronomia, museus, estações de esqui e muito mais, tudo em um só lugar.\n",
        "\n",
        "\n",
        "**Neste *notebook*, iremos analisar os dados do *Airbnb* referentes a Santiago, no Chile, e ver quais insights podem ser extraídos a partir de dados brutos.**"
      ]
    },
    {
      "cell_type": "markdown",
      "metadata": {
        "id": "0zxQHhIUDF_2"
      },
      "source": [
        "## Obtenção dos Dados\n",
        "\n",
        "Para iniciar o projeto, iremos importar as bibliotecas de análise de dados necessárias (Pandas, MatplotLib e Seaborn) e os dados do *Airbnb* relacionados à cidade de Santiago, que podem ser obtidos [aqui](http://insideairbnb.com/get-the-data/)."
      ]
    },
    {
      "cell_type": "code",
      "metadata": {
        "id": "Vhp2wMPgJ6zX"
      },
      "source": [
        "# importar os pacotes necessarios\n",
        "import pandas as pd\n",
        "import matplotlib.pyplot as plt\n",
        "import seaborn as sns\n",
        "\n",
        "%matplotlib inline"
      ],
      "execution_count": 1,
      "outputs": []
    },
    {
      "cell_type": "code",
      "metadata": {
        "id": "tUmoAT8DLQ5T"
      },
      "source": [
        "# importar o arquivo listings.csv para um DataFrame e colocar o ID como indexador\n",
        "df = pd.read_csv(\"/content/Santiago.csv\",\n",
        "                 index_col=\"id\")"
      ],
      "execution_count": 2,
      "outputs": []
    },
    {
      "cell_type": "markdown",
      "metadata": {
        "id": "qb5By2nIMS6m"
      },
      "source": [
        "## Análise dos Dados\n",
        "\n",
        "Antes de mergulharmos nos dados, é interessante sabermos o que cada uma das colunas disponíveis significa. No dicionário abaixo, você encontrará o significado de cada uma delas:"
      ]
    },
    {
      "cell_type": "markdown",
      "metadata": {
        "id": "RYgvuebKNg8-"
      },
      "source": [
        "**Dicionário das variáveis**\n",
        "\n",
        "* `Id` - número de identificação gerado para o imóvel em questão;\n",
        "* `name`- nome da propriedade anunciada;   \n",
        "* `host_id` - id ligada ao locatário da propriedade;\n",
        "* `host_name` - nome do proprietário/anfitrião;\n",
        "* `neighbourhood_group` - coluna sem nenhum valor válido;\n",
        "* `neighbourhood` - nome do bairro;\n",
        "* `latitude` - coordenada de latitude da propriedade;\n",
        "* `longitude` - coordenada de longitude da propriedade;\n",
        "* `room_type` - informa o tipo de quarto oferecido;\n",
        "* `price` - informa o preço diário do aluguel;\n",
        "* `minimum_nights` - informa o número mínimo de noites para aluguel;\n",
        "* `number_of_reviews` - número de reviews que a propriedade possui;\n",
        "* `last_review` - data do último review;\n",
        "* `reviews_per_month` - quantidade mensal de reviews;\n",
        "* `calculated_host_listings_count` - quantidade de imóveis do anfitrião;\n",
        "* `availability_365` - número de dias por ano em que a propriedade esteve disponível\n",
        "\n",
        "\n",
        "Antes de iniciar qualquer análise, vamos verificar a cara do nosso *dataset*, analisando as 5 primeiras entradas."
      ]
    },
    {
      "cell_type": "code",
      "metadata": {
        "id": "2iS_dae7YQtO",
        "colab": {
          "base_uri": "https://localhost:8080/",
          "height": 492
        },
        "outputId": "9209f6ca-d369-466e-d549-11e4f16a6231"
      },
      "source": [
        "# mostrar as 5 primeiras entradas\n",
        "df.head(5)"
      ],
      "execution_count": 3,
      "outputs": [
        {
          "output_type": "execute_result",
          "data": {
            "text/plain": [
              "                                     name  host_id host_name  \\\n",
              "id                                                             \n",
              "30950     Apartment Providencia, Santiago   132845    Pamela   \n",
              "49392        Share my Flat in Providencia   224592     Maria   \n",
              "52811  Suite Providencia 1 Santiago Chile   244792  Cristián   \n",
              "53494  depto centro ski el colorado chile   249097   Paulina   \n",
              "55303                   Plaza Lyon piso 3   261079    Hernan   \n",
              "\n",
              "       neighbourhood_group neighbourhood  latitude  longitude  \\\n",
              "id                                                              \n",
              "30950                  NaN   Providencia -33.43174  -70.61845   \n",
              "49392                  NaN   Providencia -33.43266  -70.60072   \n",
              "52811                  NaN   Providencia -33.42959  -70.61880   \n",
              "53494                  NaN  Lo Barnechea -33.34344  -70.29432   \n",
              "55303                  NaN   Providencia -33.42250  -70.60920   \n",
              "\n",
              "             room_type   price  minimum_nights  number_of_reviews last_review  \\\n",
              "id                                                                              \n",
              "30950  Entire home/apt  260000             180                 12  2021-08-30   \n",
              "49392     Private room   45652               3                  0         NaN   \n",
              "52811  Entire home/apt   46513               1                 46  2021-11-04   \n",
              "53494  Entire home/apt  149999               2                 38  2021-05-22   \n",
              "55303  Entire home/apt   70000               2                  2  2016-11-28   \n",
              "\n",
              "       reviews_per_month  calculated_host_listings_count  availability_365  \\\n",
              "id                                                                           \n",
              "30950               0.22                               1               276   \n",
              "49392                NaN                               2               176   \n",
              "52811               0.34                               3                89   \n",
              "53494               0.57                               1               266   \n",
              "55303               0.03                               3               365   \n",
              "\n",
              "       number_of_reviews_ltm license  \n",
              "id                                    \n",
              "30950                      4     NaN  \n",
              "49392                      0     NaN  \n",
              "52811                      1     NaN  \n",
              "53494                      1     NaN  \n",
              "55303                      0     NaN  "
            ],
            "text/html": [
              "\n",
              "  <div id=\"df-27812090-1a81-4727-8cc6-0744af5a4a8b\">\n",
              "    <div class=\"colab-df-container\">\n",
              "      <div>\n",
              "<style scoped>\n",
              "    .dataframe tbody tr th:only-of-type {\n",
              "        vertical-align: middle;\n",
              "    }\n",
              "\n",
              "    .dataframe tbody tr th {\n",
              "        vertical-align: top;\n",
              "    }\n",
              "\n",
              "    .dataframe thead th {\n",
              "        text-align: right;\n",
              "    }\n",
              "</style>\n",
              "<table border=\"1\" class=\"dataframe\">\n",
              "  <thead>\n",
              "    <tr style=\"text-align: right;\">\n",
              "      <th></th>\n",
              "      <th>name</th>\n",
              "      <th>host_id</th>\n",
              "      <th>host_name</th>\n",
              "      <th>neighbourhood_group</th>\n",
              "      <th>neighbourhood</th>\n",
              "      <th>latitude</th>\n",
              "      <th>longitude</th>\n",
              "      <th>room_type</th>\n",
              "      <th>price</th>\n",
              "      <th>minimum_nights</th>\n",
              "      <th>number_of_reviews</th>\n",
              "      <th>last_review</th>\n",
              "      <th>reviews_per_month</th>\n",
              "      <th>calculated_host_listings_count</th>\n",
              "      <th>availability_365</th>\n",
              "      <th>number_of_reviews_ltm</th>\n",
              "      <th>license</th>\n",
              "    </tr>\n",
              "    <tr>\n",
              "      <th>id</th>\n",
              "      <th></th>\n",
              "      <th></th>\n",
              "      <th></th>\n",
              "      <th></th>\n",
              "      <th></th>\n",
              "      <th></th>\n",
              "      <th></th>\n",
              "      <th></th>\n",
              "      <th></th>\n",
              "      <th></th>\n",
              "      <th></th>\n",
              "      <th></th>\n",
              "      <th></th>\n",
              "      <th></th>\n",
              "      <th></th>\n",
              "      <th></th>\n",
              "      <th></th>\n",
              "    </tr>\n",
              "  </thead>\n",
              "  <tbody>\n",
              "    <tr>\n",
              "      <th>30950</th>\n",
              "      <td>Apartment Providencia, Santiago</td>\n",
              "      <td>132845</td>\n",
              "      <td>Pamela</td>\n",
              "      <td>NaN</td>\n",
              "      <td>Providencia</td>\n",
              "      <td>-33.43174</td>\n",
              "      <td>-70.61845</td>\n",
              "      <td>Entire home/apt</td>\n",
              "      <td>260000</td>\n",
              "      <td>180</td>\n",
              "      <td>12</td>\n",
              "      <td>2021-08-30</td>\n",
              "      <td>0.22</td>\n",
              "      <td>1</td>\n",
              "      <td>276</td>\n",
              "      <td>4</td>\n",
              "      <td>NaN</td>\n",
              "    </tr>\n",
              "    <tr>\n",
              "      <th>49392</th>\n",
              "      <td>Share my Flat in Providencia</td>\n",
              "      <td>224592</td>\n",
              "      <td>Maria</td>\n",
              "      <td>NaN</td>\n",
              "      <td>Providencia</td>\n",
              "      <td>-33.43266</td>\n",
              "      <td>-70.60072</td>\n",
              "      <td>Private room</td>\n",
              "      <td>45652</td>\n",
              "      <td>3</td>\n",
              "      <td>0</td>\n",
              "      <td>NaN</td>\n",
              "      <td>NaN</td>\n",
              "      <td>2</td>\n",
              "      <td>176</td>\n",
              "      <td>0</td>\n",
              "      <td>NaN</td>\n",
              "    </tr>\n",
              "    <tr>\n",
              "      <th>52811</th>\n",
              "      <td>Suite Providencia 1 Santiago Chile</td>\n",
              "      <td>244792</td>\n",
              "      <td>Cristián</td>\n",
              "      <td>NaN</td>\n",
              "      <td>Providencia</td>\n",
              "      <td>-33.42959</td>\n",
              "      <td>-70.61880</td>\n",
              "      <td>Entire home/apt</td>\n",
              "      <td>46513</td>\n",
              "      <td>1</td>\n",
              "      <td>46</td>\n",
              "      <td>2021-11-04</td>\n",
              "      <td>0.34</td>\n",
              "      <td>3</td>\n",
              "      <td>89</td>\n",
              "      <td>1</td>\n",
              "      <td>NaN</td>\n",
              "    </tr>\n",
              "    <tr>\n",
              "      <th>53494</th>\n",
              "      <td>depto centro ski el colorado chile</td>\n",
              "      <td>249097</td>\n",
              "      <td>Paulina</td>\n",
              "      <td>NaN</td>\n",
              "      <td>Lo Barnechea</td>\n",
              "      <td>-33.34344</td>\n",
              "      <td>-70.29432</td>\n",
              "      <td>Entire home/apt</td>\n",
              "      <td>149999</td>\n",
              "      <td>2</td>\n",
              "      <td>38</td>\n",
              "      <td>2021-05-22</td>\n",
              "      <td>0.57</td>\n",
              "      <td>1</td>\n",
              "      <td>266</td>\n",
              "      <td>1</td>\n",
              "      <td>NaN</td>\n",
              "    </tr>\n",
              "    <tr>\n",
              "      <th>55303</th>\n",
              "      <td>Plaza Lyon piso 3</td>\n",
              "      <td>261079</td>\n",
              "      <td>Hernan</td>\n",
              "      <td>NaN</td>\n",
              "      <td>Providencia</td>\n",
              "      <td>-33.42250</td>\n",
              "      <td>-70.60920</td>\n",
              "      <td>Entire home/apt</td>\n",
              "      <td>70000</td>\n",
              "      <td>2</td>\n",
              "      <td>2</td>\n",
              "      <td>2016-11-28</td>\n",
              "      <td>0.03</td>\n",
              "      <td>3</td>\n",
              "      <td>365</td>\n",
              "      <td>0</td>\n",
              "      <td>NaN</td>\n",
              "    </tr>\n",
              "  </tbody>\n",
              "</table>\n",
              "</div>\n",
              "      <button class=\"colab-df-convert\" onclick=\"convertToInteractive('df-27812090-1a81-4727-8cc6-0744af5a4a8b')\"\n",
              "              title=\"Convert this dataframe to an interactive table.\"\n",
              "              style=\"display:none;\">\n",
              "        \n",
              "  <svg xmlns=\"http://www.w3.org/2000/svg\" height=\"24px\"viewBox=\"0 0 24 24\"\n",
              "       width=\"24px\">\n",
              "    <path d=\"M0 0h24v24H0V0z\" fill=\"none\"/>\n",
              "    <path d=\"M18.56 5.44l.94 2.06.94-2.06 2.06-.94-2.06-.94-.94-2.06-.94 2.06-2.06.94zm-11 1L8.5 8.5l.94-2.06 2.06-.94-2.06-.94L8.5 2.5l-.94 2.06-2.06.94zm10 10l.94 2.06.94-2.06 2.06-.94-2.06-.94-.94-2.06-.94 2.06-2.06.94z\"/><path d=\"M17.41 7.96l-1.37-1.37c-.4-.4-.92-.59-1.43-.59-.52 0-1.04.2-1.43.59L10.3 9.45l-7.72 7.72c-.78.78-.78 2.05 0 2.83L4 21.41c.39.39.9.59 1.41.59.51 0 1.02-.2 1.41-.59l7.78-7.78 2.81-2.81c.8-.78.8-2.07 0-2.86zM5.41 20L4 18.59l7.72-7.72 1.47 1.35L5.41 20z\"/>\n",
              "  </svg>\n",
              "      </button>\n",
              "      \n",
              "  <style>\n",
              "    .colab-df-container {\n",
              "      display:flex;\n",
              "      flex-wrap:wrap;\n",
              "      gap: 12px;\n",
              "    }\n",
              "\n",
              "    .colab-df-convert {\n",
              "      background-color: #E8F0FE;\n",
              "      border: none;\n",
              "      border-radius: 50%;\n",
              "      cursor: pointer;\n",
              "      display: none;\n",
              "      fill: #1967D2;\n",
              "      height: 32px;\n",
              "      padding: 0 0 0 0;\n",
              "      width: 32px;\n",
              "    }\n",
              "\n",
              "    .colab-df-convert:hover {\n",
              "      background-color: #E2EBFA;\n",
              "      box-shadow: 0px 1px 2px rgba(60, 64, 67, 0.3), 0px 1px 3px 1px rgba(60, 64, 67, 0.15);\n",
              "      fill: #174EA6;\n",
              "    }\n",
              "\n",
              "    [theme=dark] .colab-df-convert {\n",
              "      background-color: #3B4455;\n",
              "      fill: #D2E3FC;\n",
              "    }\n",
              "\n",
              "    [theme=dark] .colab-df-convert:hover {\n",
              "      background-color: #434B5C;\n",
              "      box-shadow: 0px 1px 3px 1px rgba(0, 0, 0, 0.15);\n",
              "      filter: drop-shadow(0px 1px 2px rgba(0, 0, 0, 0.3));\n",
              "      fill: #FFFFFF;\n",
              "    }\n",
              "  </style>\n",
              "\n",
              "      <script>\n",
              "        const buttonEl =\n",
              "          document.querySelector('#df-27812090-1a81-4727-8cc6-0744af5a4a8b button.colab-df-convert');\n",
              "        buttonEl.style.display =\n",
              "          google.colab.kernel.accessAllowed ? 'block' : 'none';\n",
              "\n",
              "        async function convertToInteractive(key) {\n",
              "          const element = document.querySelector('#df-27812090-1a81-4727-8cc6-0744af5a4a8b');\n",
              "          const dataTable =\n",
              "            await google.colab.kernel.invokeFunction('convertToInteractive',\n",
              "                                                     [key], {});\n",
              "          if (!dataTable) return;\n",
              "\n",
              "          const docLinkHtml = 'Like what you see? Visit the ' +\n",
              "            '<a target=\"_blank\" href=https://colab.research.google.com/notebooks/data_table.ipynb>data table notebook</a>'\n",
              "            + ' to learn more about interactive tables.';\n",
              "          element.innerHTML = '';\n",
              "          dataTable['output_type'] = 'display_data';\n",
              "          await google.colab.output.renderOutput(dataTable, element);\n",
              "          const docLink = document.createElement('div');\n",
              "          docLink.innerHTML = docLinkHtml;\n",
              "          element.appendChild(docLink);\n",
              "        }\n",
              "      </script>\n",
              "    </div>\n",
              "  </div>\n",
              "  "
            ]
          },
          "metadata": {},
          "execution_count": 3
        }
      ]
    },
    {
      "cell_type": "markdown",
      "source": [
        "De cara, já vemos que cada aluguel possui o seu `id`, ou seja, um número de identificação. Em seguida, temos alguns dados sobre a localização do imóvel, o tipo (pode ser um quarto, ou o imóvel inteiro, por exemplo). Além disso, é possível ver algumas informações sobre disponibilidade, número mínimo de noites e reviews."
      ],
      "metadata": {
        "id": "rWrj7hSrlkan"
      }
    },
    {
      "cell_type": "markdown",
      "metadata": {
        "id": "6-B_qtEaYEd-"
      },
      "source": [
        "### **Q1. Quantos atributos (variáveis) e quantas entradas o nosso conjunto de dados possui? Quais os tipos das variáveis?**"
      ]
    },
    {
      "cell_type": "markdown",
      "source": [
        "Em um primeiro contato com o DataSet, é muito importante saber quais são as variáveis que possuímos e que tipo de dados cada uma delas nos entregará.\n",
        "Por exemplo, variáveis do tipo `int` ou `float` nos mostrarão números (inteiros ou com casas decimais, respectivamente), e variáveis do tipo `object` nos mostrarão texto."
      ],
      "metadata": {
        "id": "IUfbp1aoHuez"
      }
    },
    {
      "cell_type": "code",
      "metadata": {
        "id": "TFRK0tniLV-G",
        "colab": {
          "base_uri": "https://localhost:8080/"
        },
        "outputId": "2e8b6439-3ace-4a9d-ecbd-87df6be5705a"
      },
      "source": [
        "# identificar o volume de dados do DataFrame\n",
        "print(\"Entradas:\\t {}\".format(df.shape[0]))\n",
        "print(\"Variáveis:\\t {}\".format(df.shape[1]))\n",
        "# identificando os tipos de variáveis\n",
        "df.dtypes"
      ],
      "execution_count": 4,
      "outputs": [
        {
          "output_type": "stream",
          "name": "stdout",
          "text": [
            "Entradas:\t 9139\n",
            "Variáveis:\t 17\n"
          ]
        },
        {
          "output_type": "execute_result",
          "data": {
            "text/plain": [
              "name                               object\n",
              "host_id                             int64\n",
              "host_name                          object\n",
              "neighbourhood_group               float64\n",
              "neighbourhood                      object\n",
              "latitude                          float64\n",
              "longitude                         float64\n",
              "room_type                          object\n",
              "price                               int64\n",
              "minimum_nights                      int64\n",
              "number_of_reviews                   int64\n",
              "last_review                        object\n",
              "reviews_per_month                 float64\n",
              "calculated_host_listings_count      int64\n",
              "availability_365                    int64\n",
              "number_of_reviews_ltm               int64\n",
              "license                            object\n",
              "dtype: object"
            ]
          },
          "metadata": {},
          "execution_count": 4
        }
      ]
    },
    {
      "cell_type": "markdown",
      "metadata": {
        "id": "yz1urSUGW9iE"
      },
      "source": [
        "### **Q2. Qual a porcentagem de valores ausentes no *dataset*?**"
      ]
    },
    {
      "cell_type": "markdown",
      "source": [
        "A qualidade do DataSet depende em grande parte da quantidade de valores válidos presentes nele.\n",
        "Abaixo, podemos ver que a coluna `neighbourhood_group` possui todos os seus valores nulos, e que a variável `license` também possui grande parte de seus valores nulos, o que as tornará irrelevantes para a nossa análise."
      ],
      "metadata": {
        "id": "oC1YCw-bHEqz"
      }
    },
    {
      "cell_type": "code",
      "metadata": {
        "id": "plk2FjbCXOqP",
        "colab": {
          "base_uri": "https://localhost:8080/"
        },
        "outputId": "c6d88dcb-3bbe-47f6-9f71-154273ec3e5d"
      },
      "source": [
        "# ordenar em ordem decrescente as variáveis por seus valores ausentes\n",
        "(df.isnull().sum()/df.shape[0]).sort_values(ascending=False)"
      ],
      "execution_count": 5,
      "outputs": [
        {
          "output_type": "execute_result",
          "data": {
            "text/plain": [
              "neighbourhood_group               1.000000\n",
              "license                           0.988401\n",
              "last_review                       0.356604\n",
              "reviews_per_month                 0.356604\n",
              "name                              0.000438\n",
              "host_name                         0.000438\n",
              "latitude                          0.000000\n",
              "longitude                         0.000000\n",
              "room_type                         0.000000\n",
              "host_id                           0.000000\n",
              "minimum_nights                    0.000000\n",
              "number_of_reviews                 0.000000\n",
              "neighbourhood                     0.000000\n",
              "calculated_host_listings_count    0.000000\n",
              "availability_365                  0.000000\n",
              "number_of_reviews_ltm             0.000000\n",
              "price                             0.000000\n",
              "dtype: float64"
            ]
          },
          "metadata": {},
          "execution_count": 5
        }
      ]
    },
    {
      "cell_type": "markdown",
      "metadata": {
        "id": "iHXvvHIxaoNc"
      },
      "source": [
        "### **Q3. Qual o tipo de distribuição das variáveis?** \n",
        "\n",
        "Plotaremos os histogramas das variáveis numéricas para fazer uma primeira avaliação sobre a distribuição dos dados."
      ]
    },
    {
      "cell_type": "code",
      "metadata": {
        "id": "q2wWSfeRbmBo",
        "colab": {
          "base_uri": "https://localhost:8080/",
          "height": 607
        },
        "outputId": "5b23840c-b5b4-4bb8-ee15-b37820b2a2c1"
      },
      "source": [
        "# plotar o histograma das variáveis numéricas\n",
        "df.hist(bins=15, figsize=(15,10));"
      ],
      "execution_count": 12,
      "outputs": [
        {
          "output_type": "display_data",
          "data": {
            "text/plain": [
              "<Figure size 1080x720 with 12 Axes>"
            ],
            "image/png": "[encoded data removed]"
          },
          "metadata": {
            "needs_background": "light"
          }
        }
      ]
    },
    {
      "cell_type": "markdown",
      "source": [
        "Histogramas são gráficos de barra usados para mostrar a distribuição de frequências. \n",
        "\n",
        "Nos gráficos acima, é possível perceber que a distribuição de algumas variáveis é bastante ampla. Por exemplo, na variável `minimum nights` é possível perceber que existem alguns poucos imóveis que exigem uma quantidade alta de noites mínimas para aluguel.\n",
        "\n",
        "Esse tipo de situação - onde um dado isolado difere do padrão geral de distribuição de frequências - pode acabar prejudicando a análise dos dados. Nestes casos, é importante realizar uma análise mais cuidadosa destes dados, para ver se realmente são relevantes no contexto geral do estudo."
      ],
      "metadata": {
        "id": "ReL7KVvlpQzA"
      }
    },
    {
      "cell_type": "markdown",
      "source": [
        "### **Q4 - Existem *Outliers* na distribuição dos dados?**\n",
        "\n",
        "Por definição, *outliers* são dados que diferem drasticamente do padrão. Estatisticamente falando, podemos defini-los através do IQR Score (Interquartile Range) como sendo os dados que se encontram fora do 1° e 3° quartis de uma distribuição.\n",
        "\n",
        "<center><img alt=\"Santiago\" width=\"60%\" src=\"https://chemicalstatistician.files.wordpress.com/2013/03/normal-pdf-with-iqr.png\"></center>\n",
        "\n",
        "Ou seja, podemos definir o IQR como sendo:\n",
        "\n",
        "IQR = Q3 - Q1\n",
        "\n",
        "Através da função `Describe`, é possível visualizar os percentis das variáveis numéricas de nosso *dataset*."
      ],
      "metadata": {
        "id": "m05m2UeT6sL8"
      }
    },
    {
      "cell_type": "code",
      "source": [
        "#avaliando as variáveis númericas através da função describe\n",
        "df[['price','minimum_nights','number_of_reviews', 'reviews_per_month',\n",
        "    'calculated_host_listings_count', 'availability_365']].describe()"
      ],
      "metadata": {
        "colab": {
          "base_uri": "https://localhost:8080/",
          "height": 300
        },
        "id": "AzlHKcaq_U_R",
        "outputId": "aa61ccc7-7c9a-47f2-da2f-7775c53a6afe"
      },
      "execution_count": 11,
      "outputs": [
        {
          "output_type": "execute_result",
          "data": {
            "text/plain": [
              "              price  minimum_nights  number_of_reviews  reviews_per_month  \\\n",
              "count  9.139000e+03     9139.000000        9139.000000        5880.000000   \n",
              "mean   7.999007e+04        7.251231          17.942554           0.910160   \n",
              "std    8.707143e+05       26.967635          40.411300           1.378244   \n",
              "min    0.000000e+00        1.000000           0.000000           0.010000   \n",
              "25%    2.153400e+04        1.000000           0.000000           0.110000   \n",
              "50%    3.500000e+04        2.000000           2.000000           0.400000   \n",
              "75%    5.400000e+04        3.000000          16.000000           1.150000   \n",
              "max    5.598833e+07      400.000000         638.000000          27.000000   \n",
              "\n",
              "       calculated_host_listings_count  availability_365  \n",
              "count                     9139.000000       9139.000000  \n",
              "mean                         3.025605        248.003830  \n",
              "std                          4.312533        127.789544  \n",
              "min                          1.000000          0.000000  \n",
              "25%                          1.000000        142.000000  \n",
              "50%                          1.000000        319.000000  \n",
              "75%                          3.000000        364.000000  \n",
              "max                         35.000000        365.000000  "
            ],
            "text/html": [
              "\n",
              "  <div id=\"df-3316684c-1dcf-4446-8e6a-1fcb460eb9c4\">\n",
              "    <div class=\"colab-df-container\">\n",
              "      <div>\n",
              "<style scoped>\n",
              "    .dataframe tbody tr th:only-of-type {\n",
              "        vertical-align: middle;\n",
              "    }\n",
              "\n",
              "    .dataframe tbody tr th {\n",
              "        vertical-align: top;\n",
              "    }\n",
              "\n",
              "    .dataframe thead th {\n",
              "        text-align: right;\n",
              "    }\n",
              "</style>\n",
              "<table border=\"1\" class=\"dataframe\">\n",
              "  <thead>\n",
              "    <tr style=\"text-align: right;\">\n",
              "      <th></th>\n",
              "      <th>price</th>\n",
              "      <th>minimum_nights</th>\n",
              "      <th>number_of_reviews</th>\n",
              "      <th>reviews_per_month</th>\n",
              "      <th>calculated_host_listings_count</th>\n",
              "      <th>availability_365</th>\n",
              "    </tr>\n",
              "  </thead>\n",
              "  <tbody>\n",
              "    <tr>\n",
              "      <th>count</th>\n",
              "      <td>9.139000e+03</td>\n",
              "      <td>9139.000000</td>\n",
              "      <td>9139.000000</td>\n",
              "      <td>5880.000000</td>\n",
              "      <td>9139.000000</td>\n",
              "      <td>9139.000000</td>\n",
              "    </tr>\n",
              "    <tr>\n",
              "      <th>mean</th>\n",
              "      <td>7.999007e+04</td>\n",
              "      <td>7.251231</td>\n",
              "      <td>17.942554</td>\n",
              "      <td>0.910160</td>\n",
              "      <td>3.025605</td>\n",
              "      <td>248.003830</td>\n",
              "    </tr>\n",
              "    <tr>\n",
              "      <th>std</th>\n",
              "      <td>8.707143e+05</td>\n",
              "      <td>26.967635</td>\n",
              "      <td>40.411300</td>\n",
              "      <td>1.378244</td>\n",
              "      <td>4.312533</td>\n",
              "      <td>127.789544</td>\n",
              "    </tr>\n",
              "    <tr>\n",
              "      <th>min</th>\n",
              "      <td>0.000000e+00</td>\n",
              "      <td>1.000000</td>\n",
              "      <td>0.000000</td>\n",
              "      <td>0.010000</td>\n",
              "      <td>1.000000</td>\n",
              "      <td>0.000000</td>\n",
              "    </tr>\n",
              "    <tr>\n",
              "      <th>25%</th>\n",
              "      <td>2.153400e+04</td>\n",
              "      <td>1.000000</td>\n",
              "      <td>0.000000</td>\n",
              "      <td>0.110000</td>\n",
              "      <td>1.000000</td>\n",
              "      <td>142.000000</td>\n",
              "    </tr>\n",
              "    <tr>\n",
              "      <th>50%</th>\n",
              "      <td>3.500000e+04</td>\n",
              "      <td>2.000000</td>\n",
              "      <td>2.000000</td>\n",
              "      <td>0.400000</td>\n",
              "      <td>1.000000</td>\n",
              "      <td>319.000000</td>\n",
              "    </tr>\n",
              "    <tr>\n",
              "      <th>75%</th>\n",
              "      <td>5.400000e+04</td>\n",
              "      <td>3.000000</td>\n",
              "      <td>16.000000</td>\n",
              "      <td>1.150000</td>\n",
              "      <td>3.000000</td>\n",
              "      <td>364.000000</td>\n",
              "    </tr>\n",
              "    <tr>\n",
              "      <th>max</th>\n",
              "      <td>5.598833e+07</td>\n",
              "      <td>400.000000</td>\n",
              "      <td>638.000000</td>\n",
              "      <td>27.000000</td>\n",
              "      <td>35.000000</td>\n",
              "      <td>365.000000</td>\n",
              "    </tr>\n",
              "  </tbody>\n",
              "</table>\n",
              "</div>\n",
              "      <button class=\"colab-df-convert\" onclick=\"convertToInteractive('df-3316684c-1dcf-4446-8e6a-1fcb460eb9c4')\"\n",
              "              title=\"Convert this dataframe to an interactive table.\"\n",
              "              style=\"display:none;\">\n",
              "        \n",
              "  <svg xmlns=\"http://www.w3.org/2000/svg\" height=\"24px\"viewBox=\"0 0 24 24\"\n",
              "       width=\"24px\">\n",
              "    <path d=\"M0 0h24v24H0V0z\" fill=\"none\"/>\n",
              "    <path d=\"M18.56 5.44l.94 2.06.94-2.06 2.06-.94-2.06-.94-.94-2.06-.94 2.06-2.06.94zm-11 1L8.5 8.5l.94-2.06 2.06-.94-2.06-.94L8.5 2.5l-.94 2.06-2.06.94zm10 10l.94 2.06.94-2.06 2.06-.94-2.06-.94-.94-2.06-.94 2.06-2.06.94z\"/><path d=\"M17.41 7.96l-1.37-1.37c-.4-.4-.92-.59-1.43-.59-.52 0-1.04.2-1.43.59L10.3 9.45l-7.72 7.72c-.78.78-.78 2.05 0 2.83L4 21.41c.39.39.9.59 1.41.59.51 0 1.02-.2 1.41-.59l7.78-7.78 2.81-2.81c.8-.78.8-2.07 0-2.86zM5.41 20L4 18.59l7.72-7.72 1.47 1.35L5.41 20z\"/>\n",
              "  </svg>\n",
              "      </button>\n",
              "      \n",
              "  <style>\n",
              "    .colab-df-container {\n",
              "      display:flex;\n",
              "      flex-wrap:wrap;\n",
              "      gap: 12px;\n",
              "    }\n",
              "\n",
              "    .colab-df-convert {\n",
              "      background-color: #E8F0FE;\n",
              "      border: none;\n",
              "      border-radius: 50%;\n",
              "      cursor: pointer;\n",
              "      display: none;\n",
              "      fill: #1967D2;\n",
              "      height: 32px;\n",
              "      padding: 0 0 0 0;\n",
              "      width: 32px;\n",
              "    }\n",
              "\n",
              "    .colab-df-convert:hover {\n",
              "      background-color: #E2EBFA;\n",
              "      box-shadow: 0px 1px 2px rgba(60, 64, 67, 0.3), 0px 1px 3px 1px rgba(60, 64, 67, 0.15);\n",
              "      fill: #174EA6;\n",
              "    }\n",
              "\n",
              "    [theme=dark] .colab-df-convert {\n",
              "      background-color: #3B4455;\n",
              "      fill: #D2E3FC;\n",
              "    }\n",
              "\n",
              "    [theme=dark] .colab-df-convert:hover {\n",
              "      background-color: #434B5C;\n",
              "      box-shadow: 0px 1px 3px 1px rgba(0, 0, 0, 0.15);\n",
              "      filter: drop-shadow(0px 1px 2px rgba(0, 0, 0, 0.3));\n",
              "      fill: #FFFFFF;\n",
              "    }\n",
              "  </style>\n",
              "\n",
              "      <script>\n",
              "        const buttonEl =\n",
              "          document.querySelector('#df-3316684c-1dcf-4446-8e6a-1fcb460eb9c4 button.colab-df-convert');\n",
              "        buttonEl.style.display =\n",
              "          google.colab.kernel.accessAllowed ? 'block' : 'none';\n",
              "\n",
              "        async function convertToInteractive(key) {\n",
              "          const element = document.querySelector('#df-3316684c-1dcf-4446-8e6a-1fcb460eb9c4');\n",
              "          const dataTable =\n",
              "            await google.colab.kernel.invokeFunction('convertToInteractive',\n",
              "                                                     [key], {});\n",
              "          if (!dataTable) return;\n",
              "\n",
              "          const docLinkHtml = 'Like what you see? Visit the ' +\n",
              "            '<a target=\"_blank\" href=https://colab.research.google.com/notebooks/data_table.ipynb>data table notebook</a>'\n",
              "            + ' to learn more about interactive tables.';\n",
              "          element.innerHTML = '';\n",
              "          dataTable['output_type'] = 'display_data';\n",
              "          await google.colab.output.renderOutput(dataTable, element);\n",
              "          const docLink = document.createElement('div');\n",
              "          docLink.innerHTML = docLinkHtml;\n",
              "          element.appendChild(docLink);\n",
              "        }\n",
              "      </script>\n",
              "    </div>\n",
              "  </div>\n",
              "  "
            ]
          },
          "metadata": {},
          "execution_count": 11
        }
      ]
    },
    {
      "cell_type": "markdown",
      "source": [
        "A tabela acima mostra alguns pontos interessantes:\n",
        "\n",
        "1.   Apesar de 75% dos preços estarem abaixo de 54000 pesos chilenos, o maior valor\n",
        "da coluna é de 55988330.\n",
        "2.   O valor máximo de noites mínimas é maior do que o disponível em um ano;\n",
        "3.   O valor mínimo de preço é 0, o que não faz sentido em se tratando de um aplicativo de aluguel de imóvieis.\n",
        "4.   O valor mínimo de disponibilidade é de 0 dias, o que significa que temos na lista pelo menos um imóvel que não pode ser alugado. \n",
        "\n",
        "Para exemplificar o uso do parâmetro IQR, vamos dar uma olhada na coluna `price`:\n",
        "\n",
        "O 1° quartil corresponde ao valor 25% na tabela acima, ou seja, 21534.\n",
        "\n",
        "O 3° quartil corresponde ao valor 75% na tabela acima, ou seja, 54000.\n",
        "O IQR será obtido através da subtração de um pelo outro.\n",
        "\n"
      ],
      "metadata": {
        "id": "YYDtnA54AW4T"
      }
    },
    {
      "cell_type": "code",
      "source": [
        "q1_price = df.price.quantile(.25);\n",
        "q3_price = df.price.quantile(.75);\n",
        "iqr_price = q3_price - q1_price;\n",
        "\n",
        "print(\"O IQR da variável price é\", iqr_price, \"pesos chilenos\")"
      ],
      "metadata": {
        "colab": {
          "base_uri": "https://localhost:8080/"
        },
        "id": "HbpJaIiJGUF8",
        "outputId": "548ae0e0-1601-4385-dd46-35ca15391053"
      },
      "execution_count": 10,
      "outputs": [
        {
          "output_type": "stream",
          "name": "stdout",
          "text": [
            "O IQR da variável price é 32466.0 pesos chilenos\n"
          ]
        }
      ]
    },
    {
      "cell_type": "markdown",
      "source": [
        "Após a obtenção do IQR da variável, o passo seguinte é a definição dos limites superior e inferior da variável, pois serão eles que definirão o que é e o que não é considerado um *outlier*.\n",
        "\n",
        "Comumente, os limites superior e inferior são definidos da seguinte maneira:\n",
        "\n",
        "Limite Superior = Q3 + 1,5 IQR\n",
        "\n",
        "Limite Inferior = Q1 - 1,5 IQR\n",
        "\n",
        "Seguindo o exemplo da varíavel `price`, temos:"
      ],
      "metadata": {
        "id": "3AzOt4xXI4Nx"
      }
    },
    {
      "cell_type": "code",
      "source": [
        "inf_price = q1_price - 1.5*iqr_price;\n",
        "sup_price = q3_price + 1.5*iqr_price;\n",
        "\n",
        "print(\"O limite superior da variável price é de\", sup_price, \"pesos chilenos\")\n",
        "print(\"O limite inferior da variável price é de\", inf_price, \"pesos chilenos\")"
      ],
      "metadata": {
        "colab": {
          "base_uri": "https://localhost:8080/"
        },
        "id": "i2JfT_JYNaxx",
        "outputId": "e3b14e93-4d0e-46b8-8a40-afe797d13eb8"
      },
      "execution_count": 44,
      "outputs": [
        {
          "output_type": "stream",
          "name": "stdout",
          "text": [
            "O limite superior da variável price é de 102699.0 pesos chilenos\n",
            "O limite inferior da variável price é de -27165.0 pesos chilenos\n"
          ]
        }
      ]
    },
    {
      "cell_type": "markdown",
      "source": [
        "Como podemos ver, apesar do IQR ser um parâmetro muito interessante, não podemos simplesmente segui-lo cegamente.\n",
        "\n",
        "O limite inferior da varíavel `price` é de -27165 pesos chilenos, o que significa que, estatisticamente, qualquer valor acima deste número poderia ser considerado. Porém, sabemos que não existem valores negativos de aluguel (seria como se o dono do imóvel tivesse que te pagar, certo?) e também que nenhum imóvel seria alugado por 0 pesos chilenos (não faria sentido algum anunciar um imóvel de graça em um aplicativo como a *Airbnb*).\n",
        "\n",
        "Portanto, no caso da variável `price`, iremos desconsiderar valores acima de 102699 pesos e também os valores nulos.\n",
        "\n",
        "Na sequência, iremos fazer o mesmo para a variável `minimum nights`, que também apresenta valores fora do padrão (por exemplo, alguns imóveis exigem um mínimo de 365 dias para aluguel).\n",
        "\n"
      ],
      "metadata": {
        "id": "e_ti1HfnGR3J"
      }
    },
    {
      "cell_type": "code",
      "source": [
        "q1_minimum = df.minimum_nights.quantile(.25)\n",
        "q3_minimum = df.minimum_nights.quantile(.75)\n",
        "iqr_minimum = q3_minimum - q1_minimum\n",
        "print(\"O IQR para a variável minimum nights é de\", iqr_minimum, \"dias\")"
      ],
      "metadata": {
        "colab": {
          "base_uri": "https://localhost:8080/"
        },
        "id": "-savPqoNw0iy",
        "outputId": "5767cd41-dc8d-46f1-f861-eb01d6a82d9b"
      },
      "execution_count": 18,
      "outputs": [
        {
          "output_type": "stream",
          "name": "stdout",
          "text": [
            "O IQR para a variável minimum nights é de 2.0 dias\n"
          ]
        }
      ]
    },
    {
      "cell_type": "markdown",
      "source": [
        "Agora, calculando os limites superior e inferior:"
      ],
      "metadata": {
        "id": "pMT3KlJoxvDp"
      }
    },
    {
      "cell_type": "code",
      "source": [
        "inf_minimum = q1_minimum - 1.5*iqr_minimum;\n",
        "sup_minimum = q3_minimum + 1.5*iqr_minimum;\n",
        "\n",
        "print(\"O limite superior para a variável minimum nights é de\", sup_minimum, \"dias\")\n",
        "print(\"O limite inferior para a variável minimum nights é de\", inf_minimum, \"dias\")"
      ],
      "metadata": {
        "colab": {
          "base_uri": "https://localhost:8080/"
        },
        "id": "w3bKH02qx2Iu",
        "outputId": "2b29099e-9274-47e8-9321-cf5acb0947a9"
      },
      "execution_count": 20,
      "outputs": [
        {
          "output_type": "stream",
          "name": "stdout",
          "text": [
            "O limite superior para a variável minimum nights é de 6.0 dias\n",
            "O limite inferior para a variável minimum nights é de -2.0 dias\n"
          ]
        }
      ]
    },
    {
      "cell_type": "markdown",
      "source": [
        "Novamente, sabemos que não podem existir valores negativos para esta variável, e que o mínimo valor aceitável seria de 1 dia. Então, eliminaremos da nossa análise valores superiores a 6 dias e inferiores a 1 dia.\n",
        "\n",
        "Na sequência, vamos ver visualmente como as distribuições das variáveis `price` e `minimum nights` serão afetadas após a limpeza dos dados."
      ],
      "metadata": {
        "id": "OyUnAGP-yn8R"
      }
    },
    {
      "cell_type": "code",
      "source": [
        "# price\n",
        "df.price.plot(kind='box', vert=False, figsize=(15, 3))\n",
        "plt.show()\n",
        "\n",
        "# ver quantidade de valores acima de 102699 pesos chilenos para price\n",
        "print(\"preço: valores acima de 102699 de pesos chilenos:\")\n",
        "print(\"{} entradas\".format(len(df[df.price > 102699])))\n",
        "print(\"{:.4f}%\".format((len(df[df.price > 102699]) / df.shape[0])*100))\n",
        "\n",
        "#ver a quantidade de imóveis com preço igual a zero\n",
        "print(\"preço: imóveis com preço igual a zero:\")\n",
        "print(\"{} entradas\".format(len(df[df.price == 0])))\n",
        "print(\"{:.4f}%\".format((len(df[df.price == 0]) / df.shape[0])*100))"
      ],
      "metadata": {
        "colab": {
          "base_uri": "https://localhost:8080/",
          "height": 333
        },
        "id": "YHGhOSKC0u1J",
        "outputId": "8fc885d2-f8cc-4ecf-80a6-80d77de91e82"
      },
      "execution_count": 27,
      "outputs": [
        {
          "output_type": "display_data",
          "data": {
            "text/plain": [
              "<Figure size 1080x216 with 1 Axes>"
            ],
            "image/png": "[encoded data removed]"
          },
          "metadata": {
            "needs_background": "light"
          }
        },
        {
          "output_type": "stream",
          "name": "stdout",
          "text": [
            "preço: valores acima de 102699 de pesos chilenos:\n",
            "878 entradas\n",
            "9.6072%\n",
            "preço: imóveis com preço igual a zero:\n",
            "1 entradas\n",
            "0.0109%\n"
          ]
        }
      ]
    },
    {
      "cell_type": "code",
      "source": [
        "# minimum_nights\n",
        "df.minimum_nights.plot(kind='box', vert=False, figsize=(15, 3))\n",
        "plt.show()\n",
        "\n",
        "# ver quantidade de valores acima de 6 dias para minimum_nights\n",
        "print(\"minimum_nights: valores acima de 6:\")\n",
        "print(\"{} entradas\".format(len(df[df.minimum_nights > 6])))\n",
        "print(\"{:.4f}%\".format((len(df[df.minimum_nights > 6]) / df.shape[0])*100))"
      ],
      "metadata": {
        "colab": {
          "base_uri": "https://localhost:8080/",
          "height": 265
        },
        "id": "gDjAAXPw36jB",
        "outputId": "c4baf687-cf97-4eee-fc1c-c913f8487feb"
      },
      "execution_count": 21,
      "outputs": [
        {
          "output_type": "display_data",
          "data": {
            "text/plain": [
              "<Figure size 1080x216 with 1 Axes>"
            ],
            "image/png": "[encoded data removed]"
          },
          "metadata": {
            "needs_background": "light"
          }
        },
        {
          "output_type": "stream",
          "name": "stdout",
          "text": [
            "minimum_nights: valores acima de 6:\n",
            "1343 entradas\n",
            "14.6953%\n"
          ]
        }
      ]
    },
    {
      "cell_type": "markdown",
      "source": [
        "Outro dados que podem ser percebidos analisando os histogramas acima:\n",
        "\n",
        "1.   A coluna `neighbourhood_group` não apresenta nenhum valor válido;\n",
        "2.   Outras colunas apresentam valores significativamente distantes da distribuição normal, porém os valores que serão mais profundamente analisados dizem respeito às colunas `price` e `minimum_nights`."
      ],
      "metadata": {
        "id": "MQJ0DCd1wxdK"
      }
    },
    {
      "cell_type": "markdown",
      "source": [
        "### **Q5 - Removendo os *Outliers***\n",
        "\n",
        "Após identificar a presença de *outliers* no Dataframe atual, é hora de removê-los e gerar os histogramas novamente."
      ],
      "metadata": {
        "id": "1gUsWrVM-B3b"
      }
    },
    {
      "cell_type": "code",
      "source": [
        "#remover a coluna neighbourhood_group, pois não possui valores válidos\n",
        "df_clean = df.copy();\n",
        "df_clean.drop('neighbourhood_group',axis=1, inplace=True);\n",
        "#remover a coluna license, pois possui pouquíssimos valores válidos\n",
        "df_clean.drop('license', axis=1, inplace=True);\n",
        "#Removendo preços acima de 102699 de pesos\n",
        "df_clean.drop(df_clean[df_clean.price> 102699 ].index, axis=0, inplace=True);\n",
        "#Removendo preço igual a zero\n",
        "df_clean.drop(df_clean[df.price == 0].index, axis=0, inplace=True);\n",
        "#Removendo valores de noites mínimas acima de 6 dias\n",
        "df_clean.drop(df_clean[df_clean.minimum_nights>6].index, axis=0, inplace=True);\n",
        "\n",
        "#plotando novamente as variáveis\n",
        "df_clean.hist(bins=15, figsize=(10,15));"
      ],
      "metadata": {
        "colab": {
          "base_uri": "https://localhost:8080/",
          "height": 915
        },
        "id": "ro1_VHMY1hBz",
        "outputId": "31518f78-6b45-4ff3-b521-6f5c8d6e2666"
      },
      "execution_count": 36,
      "outputs": [
        {
          "output_type": "stream",
          "name": "stderr",
          "text": [
            "/usr/local/lib/python3.7/dist-packages/ipykernel_launcher.py:9: UserWarning: Boolean Series key will be reindexed to match DataFrame index.\n",
            "  if __name__ == '__main__':\n"
          ]
        },
        {
          "output_type": "display_data",
          "data": {
            "text/plain": [
              "<Figure size 720x1080 with 12 Axes>"
            ],
            "image/png": "[encoded data removed]"
          },
          "metadata": {
            "needs_background": "light"
          }
        }
      ]
    },
    {
      "cell_type": "markdown",
      "source": [
        "Agora que já removemos os *outliers* de nosso dataset, vamos conferir as mudanças que esta limpeza acarretou. Para isso, vamos novamente usar a função `describe`."
      ],
      "metadata": {
        "id": "bKo_9x_83XIx"
      }
    },
    {
      "cell_type": "code",
      "source": [
        "df_clean[['price','minimum_nights','number_of_reviews', 'reviews_per_month',\n",
        "    'calculated_host_listings_count', 'availability_365']].describe()"
      ],
      "metadata": {
        "colab": {
          "base_uri": "https://localhost:8080/",
          "height": 300
        },
        "id": "7d1Vd2xX3qop",
        "outputId": "7aa4c3f9-28d6-46bf-805a-edc108a544ea"
      },
      "execution_count": 31,
      "outputs": [
        {
          "output_type": "execute_result",
          "data": {
            "text/plain": [
              "               price  minimum_nights  number_of_reviews  reviews_per_month  \\\n",
              "count    7067.000000     7067.000000        7067.000000        4602.000000   \n",
              "mean    36471.744588        2.009056          19.561907           1.025637   \n",
              "std     20051.150116        1.212576          42.905922           1.498416   \n",
              "min        33.000000        1.000000           0.000000           0.010000   \n",
              "25%     20836.000000        1.000000           0.000000           0.110000   \n",
              "50%     33571.000000        2.000000           2.000000           0.500000   \n",
              "75%     47375.000000        3.000000          19.000000           1.340000   \n",
              "max    102502.000000        6.000000         638.000000          27.000000   \n",
              "\n",
              "       calculated_host_listings_count  availability_365  \n",
              "count                     7067.000000       7067.000000  \n",
              "mean                         3.067355        249.114334  \n",
              "std                          4.302033        127.348379  \n",
              "min                          1.000000          0.000000  \n",
              "25%                          1.000000        143.000000  \n",
              "50%                          1.000000        323.000000  \n",
              "75%                          3.000000        364.000000  \n",
              "max                         35.000000        365.000000  "
            ],
            "text/html": [
              "\n",
              "  <div id=\"df-1ec2b448-b71f-4fdc-b5ca-97054e7a38e1\">\n",
              "    <div class=\"colab-df-container\">\n",
              "      <div>\n",
              "<style scoped>\n",
              "    .dataframe tbody tr th:only-of-type {\n",
              "        vertical-align: middle;\n",
              "    }\n",
              "\n",
              "    .dataframe tbody tr th {\n",
              "        vertical-align: top;\n",
              "    }\n",
              "\n",
              "    .dataframe thead th {\n",
              "        text-align: right;\n",
              "    }\n",
              "</style>\n",
              "<table border=\"1\" class=\"dataframe\">\n",
              "  <thead>\n",
              "    <tr style=\"text-align: right;\">\n",
              "      <th></th>\n",
              "      <th>price</th>\n",
              "      <th>minimum_nights</th>\n",
              "      <th>number_of_reviews</th>\n",
              "      <th>reviews_per_month</th>\n",
              "      <th>calculated_host_listings_count</th>\n",
              "      <th>availability_365</th>\n",
              "    </tr>\n",
              "  </thead>\n",
              "  <tbody>\n",
              "    <tr>\n",
              "      <th>count</th>\n",
              "      <td>7067.000000</td>\n",
              "      <td>7067.000000</td>\n",
              "      <td>7067.000000</td>\n",
              "      <td>4602.000000</td>\n",
              "      <td>7067.000000</td>\n",
              "      <td>7067.000000</td>\n",
              "    </tr>\n",
              "    <tr>\n",
              "      <th>mean</th>\n",
              "      <td>36471.744588</td>\n",
              "      <td>2.009056</td>\n",
              "      <td>19.561907</td>\n",
              "      <td>1.025637</td>\n",
              "      <td>3.067355</td>\n",
              "      <td>249.114334</td>\n",
              "    </tr>\n",
              "    <tr>\n",
              "      <th>std</th>\n",
              "      <td>20051.150116</td>\n",
              "      <td>1.212576</td>\n",
              "      <td>42.905922</td>\n",
              "      <td>1.498416</td>\n",
              "      <td>4.302033</td>\n",
              "      <td>127.348379</td>\n",
              "    </tr>\n",
              "    <tr>\n",
              "      <th>min</th>\n",
              "      <td>33.000000</td>\n",
              "      <td>1.000000</td>\n",
              "      <td>0.000000</td>\n",
              "      <td>0.010000</td>\n",
              "      <td>1.000000</td>\n",
              "      <td>0.000000</td>\n",
              "    </tr>\n",
              "    <tr>\n",
              "      <th>25%</th>\n",
              "      <td>20836.000000</td>\n",
              "      <td>1.000000</td>\n",
              "      <td>0.000000</td>\n",
              "      <td>0.110000</td>\n",
              "      <td>1.000000</td>\n",
              "      <td>143.000000</td>\n",
              "    </tr>\n",
              "    <tr>\n",
              "      <th>50%</th>\n",
              "      <td>33571.000000</td>\n",
              "      <td>2.000000</td>\n",
              "      <td>2.000000</td>\n",
              "      <td>0.500000</td>\n",
              "      <td>1.000000</td>\n",
              "      <td>323.000000</td>\n",
              "    </tr>\n",
              "    <tr>\n",
              "      <th>75%</th>\n",
              "      <td>47375.000000</td>\n",
              "      <td>3.000000</td>\n",
              "      <td>19.000000</td>\n",
              "      <td>1.340000</td>\n",
              "      <td>3.000000</td>\n",
              "      <td>364.000000</td>\n",
              "    </tr>\n",
              "    <tr>\n",
              "      <th>max</th>\n",
              "      <td>102502.000000</td>\n",
              "      <td>6.000000</td>\n",
              "      <td>638.000000</td>\n",
              "      <td>27.000000</td>\n",
              "      <td>35.000000</td>\n",
              "      <td>365.000000</td>\n",
              "    </tr>\n",
              "  </tbody>\n",
              "</table>\n",
              "</div>\n",
              "      <button class=\"colab-df-convert\" onclick=\"convertToInteractive('df-1ec2b448-b71f-4fdc-b5ca-97054e7a38e1')\"\n",
              "              title=\"Convert this dataframe to an interactive table.\"\n",
              "              style=\"display:none;\">\n",
              "        \n",
              "  <svg xmlns=\"http://www.w3.org/2000/svg\" height=\"24px\"viewBox=\"0 0 24 24\"\n",
              "       width=\"24px\">\n",
              "    <path d=\"M0 0h24v24H0V0z\" fill=\"none\"/>\n",
              "    <path d=\"M18.56 5.44l.94 2.06.94-2.06 2.06-.94-2.06-.94-.94-2.06-.94 2.06-2.06.94zm-11 1L8.5 8.5l.94-2.06 2.06-.94-2.06-.94L8.5 2.5l-.94 2.06-2.06.94zm10 10l.94 2.06.94-2.06 2.06-.94-2.06-.94-.94-2.06-.94 2.06-2.06.94z\"/><path d=\"M17.41 7.96l-1.37-1.37c-.4-.4-.92-.59-1.43-.59-.52 0-1.04.2-1.43.59L10.3 9.45l-7.72 7.72c-.78.78-.78 2.05 0 2.83L4 21.41c.39.39.9.59 1.41.59.51 0 1.02-.2 1.41-.59l7.78-7.78 2.81-2.81c.8-.78.8-2.07 0-2.86zM5.41 20L4 18.59l7.72-7.72 1.47 1.35L5.41 20z\"/>\n",
              "  </svg>\n",
              "      </button>\n",
              "      \n",
              "  <style>\n",
              "    .colab-df-container {\n",
              "      display:flex;\n",
              "      flex-wrap:wrap;\n",
              "      gap: 12px;\n",
              "    }\n",
              "\n",
              "    .colab-df-convert {\n",
              "      background-color: #E8F0FE;\n",
              "      border: none;\n",
              "      border-radius: 50%;\n",
              "      cursor: pointer;\n",
              "      display: none;\n",
              "      fill: #1967D2;\n",
              "      height: 32px;\n",
              "      padding: 0 0 0 0;\n",
              "      width: 32px;\n",
              "    }\n",
              "\n",
              "    .colab-df-convert:hover {\n",
              "      background-color: #E2EBFA;\n",
              "      box-shadow: 0px 1px 2px rgba(60, 64, 67, 0.3), 0px 1px 3px 1px rgba(60, 64, 67, 0.15);\n",
              "      fill: #174EA6;\n",
              "    }\n",
              "\n",
              "    [theme=dark] .colab-df-convert {\n",
              "      background-color: #3B4455;\n",
              "      fill: #D2E3FC;\n",
              "    }\n",
              "\n",
              "    [theme=dark] .colab-df-convert:hover {\n",
              "      background-color: #434B5C;\n",
              "      box-shadow: 0px 1px 3px 1px rgba(0, 0, 0, 0.15);\n",
              "      filter: drop-shadow(0px 1px 2px rgba(0, 0, 0, 0.3));\n",
              "      fill: #FFFFFF;\n",
              "    }\n",
              "  </style>\n",
              "\n",
              "      <script>\n",
              "        const buttonEl =\n",
              "          document.querySelector('#df-1ec2b448-b71f-4fdc-b5ca-97054e7a38e1 button.colab-df-convert');\n",
              "        buttonEl.style.display =\n",
              "          google.colab.kernel.accessAllowed ? 'block' : 'none';\n",
              "\n",
              "        async function convertToInteractive(key) {\n",
              "          const element = document.querySelector('#df-1ec2b448-b71f-4fdc-b5ca-97054e7a38e1');\n",
              "          const dataTable =\n",
              "            await google.colab.kernel.invokeFunction('convertToInteractive',\n",
              "                                                     [key], {});\n",
              "          if (!dataTable) return;\n",
              "\n",
              "          const docLinkHtml = 'Like what you see? Visit the ' +\n",
              "            '<a target=\"_blank\" href=https://colab.research.google.com/notebooks/data_table.ipynb>data table notebook</a>'\n",
              "            + ' to learn more about interactive tables.';\n",
              "          element.innerHTML = '';\n",
              "          dataTable['output_type'] = 'display_data';\n",
              "          await google.colab.output.renderOutput(dataTable, element);\n",
              "          const docLink = document.createElement('div');\n",
              "          docLink.innerHTML = docLinkHtml;\n",
              "          element.appendChild(docLink);\n",
              "        }\n",
              "      </script>\n",
              "    </div>\n",
              "  </div>\n",
              "  "
            ]
          },
          "metadata": {},
          "execution_count": 31
        }
      ]
    },
    {
      "cell_type": "markdown",
      "source": [
        "Podemos ver que a mediana da variável `price` teve pouca variação após a limpeza, o que indica que nosso dataset é robusto o bastante para permitir essas alterações. Para a variável `minimum_nights`, a mediana não sofreu alterações."
      ],
      "metadata": {
        "id": "zV2YmZCI4LIZ"
      }
    },
    {
      "cell_type": "markdown",
      "metadata": {
        "id": "7x4aw1j5wNmn"
      },
      "source": [
        "### **Q6. Qual a média dos preços de aluguel?**\n",
        "\n",
        "Com os *outliers* removidos, podemos obter valores mais acurados dos preço médio de aluguéis na cidade de Santiago, no Chile."
      ]
    },
    {
      "cell_type": "code",
      "metadata": {
        "id": "ff-8gUahLk-C",
        "colab": {
          "base_uri": "https://localhost:8080/"
        },
        "outputId": "dc335e36-3b26-43df-f71a-0a5585960a0b"
      },
      "source": [
        "# ver a média da coluna \"price\" após a limpeza dos dados\n",
        "print(\"O preço médio dos alugueis é de\",round(df_clean.price.mean(),2), \"pesos chilenos\" )"
      ],
      "execution_count": 43,
      "outputs": [
        {
          "output_type": "stream",
          "name": "stdout",
          "text": [
            "O preço médio dos alugueis é de 36471.74 pesos chilenos\n"
          ]
        }
      ]
    },
    {
      "cell_type": "markdown",
      "metadata": {
        "id": "IXn2oIo5qx-w"
      },
      "source": [
        "### **Q7. Qual a correlação existente entre as variáveis**\n",
        "\n",
        "Correlação significa que existe uma relação entre duas coisas. No nosso contexto, estamos buscando relação ou semelhança entre as variáveis.\n",
        "\n",
        "Essa relação pode ser medida em função do coeficiente de correlação, que estabelece qual a intensidade da ligação entre as variáveis. Para identificar as correlações existentes entre as variáveis de interesse, vou:\n",
        "\n",
        "Criar uma matriz de correlação;\n",
        "\n",
        "Gerar um heatmap a partir dessa matriz, usando a biblioteca *Seaborn*."
      ]
    },
    {
      "cell_type": "code",
      "metadata": {
        "id": "x2ayzBajqxyd",
        "colab": {
          "base_uri": "https://localhost:8080/",
          "height": 281
        },
        "outputId": "80ba2c1a-2701-434a-d765-af902b4c7a98"
      },
      "source": [
        "# criar uma matriz de correlação\n",
        "corr = df_clean[['price', 'minimum_nights', 'number_of_reviews', 'reviews_per_month',\n",
        "    'calculated_host_listings_count', 'availability_365']].corr()\n",
        "\n",
        "# mostrar a matriz de correlação\n",
        "display(corr)"
      ],
      "execution_count": 37,
      "outputs": [
        {
          "output_type": "display_data",
          "data": {
            "text/plain": [
              "                                   price  minimum_nights  number_of_reviews  \\\n",
              "price                           1.000000        0.066943           0.031877   \n",
              "minimum_nights                  0.066943        1.000000           0.014899   \n",
              "number_of_reviews               0.031877        0.014899           1.000000   \n",
              "reviews_per_month               0.065795       -0.125695           0.626446   \n",
              "calculated_host_listings_count  0.140256       -0.174642           0.085105   \n",
              "availability_365                0.069272       -0.142053          -0.069121   \n",
              "\n",
              "                                reviews_per_month  \\\n",
              "price                                    0.065795   \n",
              "minimum_nights                          -0.125695   \n",
              "number_of_reviews                        0.626446   \n",
              "reviews_per_month                        1.000000   \n",
              "calculated_host_listings_count           0.151319   \n",
              "availability_365                         0.059547   \n",
              "\n",
              "                                calculated_host_listings_count  \\\n",
              "price                                                 0.140256   \n",
              "minimum_nights                                       -0.174642   \n",
              "number_of_reviews                                     0.085105   \n",
              "reviews_per_month                                     0.151319   \n",
              "calculated_host_listings_count                        1.000000   \n",
              "availability_365                                      0.133255   \n",
              "\n",
              "                                availability_365  \n",
              "price                                   0.069272  \n",
              "minimum_nights                         -0.142053  \n",
              "number_of_reviews                      -0.069121  \n",
              "reviews_per_month                       0.059547  \n",
              "calculated_host_listings_count          0.133255  \n",
              "availability_365                        1.000000  "
            ],
            "text/html": [
              "\n",
              "  <div id=\"df-83c345e7-6868-484c-8537-bd9247e7564f\">\n",
              "    <div class=\"colab-df-container\">\n",
              "      <div>\n",
              "<style scoped>\n",
              "    .dataframe tbody tr th:only-of-type {\n",
              "        vertical-align: middle;\n",
              "    }\n",
              "\n",
              "    .dataframe tbody tr th {\n",
              "        vertical-align: top;\n",
              "    }\n",
              "\n",
              "    .dataframe thead th {\n",
              "        text-align: right;\n",
              "    }\n",
              "</style>\n",
              "<table border=\"1\" class=\"dataframe\">\n",
              "  <thead>\n",
              "    <tr style=\"text-align: right;\">\n",
              "      <th></th>\n",
              "      <th>price</th>\n",
              "      <th>minimum_nights</th>\n",
              "      <th>number_of_reviews</th>\n",
              "      <th>reviews_per_month</th>\n",
              "      <th>calculated_host_listings_count</th>\n",
              "      <th>availability_365</th>\n",
              "    </tr>\n",
              "  </thead>\n",
              "  <tbody>\n",
              "    <tr>\n",
              "      <th>price</th>\n",
              "      <td>1.000000</td>\n",
              "      <td>0.066943</td>\n",
              "      <td>0.031877</td>\n",
              "      <td>0.065795</td>\n",
              "      <td>0.140256</td>\n",
              "      <td>0.069272</td>\n",
              "    </tr>\n",
              "    <tr>\n",
              "      <th>minimum_nights</th>\n",
              "      <td>0.066943</td>\n",
              "      <td>1.000000</td>\n",
              "      <td>0.014899</td>\n",
              "      <td>-0.125695</td>\n",
              "      <td>-0.174642</td>\n",
              "      <td>-0.142053</td>\n",
              "    </tr>\n",
              "    <tr>\n",
              "      <th>number_of_reviews</th>\n",
              "      <td>0.031877</td>\n",
              "      <td>0.014899</td>\n",
              "      <td>1.000000</td>\n",
              "      <td>0.626446</td>\n",
              "      <td>0.085105</td>\n",
              "      <td>-0.069121</td>\n",
              "    </tr>\n",
              "    <tr>\n",
              "      <th>reviews_per_month</th>\n",
              "      <td>0.065795</td>\n",
              "      <td>-0.125695</td>\n",
              "      <td>0.626446</td>\n",
              "      <td>1.000000</td>\n",
              "      <td>0.151319</td>\n",
              "      <td>0.059547</td>\n",
              "    </tr>\n",
              "    <tr>\n",
              "      <th>calculated_host_listings_count</th>\n",
              "      <td>0.140256</td>\n",
              "      <td>-0.174642</td>\n",
              "      <td>0.085105</td>\n",
              "      <td>0.151319</td>\n",
              "      <td>1.000000</td>\n",
              "      <td>0.133255</td>\n",
              "    </tr>\n",
              "    <tr>\n",
              "      <th>availability_365</th>\n",
              "      <td>0.069272</td>\n",
              "      <td>-0.142053</td>\n",
              "      <td>-0.069121</td>\n",
              "      <td>0.059547</td>\n",
              "      <td>0.133255</td>\n",
              "      <td>1.000000</td>\n",
              "    </tr>\n",
              "  </tbody>\n",
              "</table>\n",
              "</div>\n",
              "      <button class=\"colab-df-convert\" onclick=\"convertToInteractive('df-83c345e7-6868-484c-8537-bd9247e7564f')\"\n",
              "              title=\"Convert this dataframe to an interactive table.\"\n",
              "              style=\"display:none;\">\n",
              "        \n",
              "  <svg xmlns=\"http://www.w3.org/2000/svg\" height=\"24px\"viewBox=\"0 0 24 24\"\n",
              "       width=\"24px\">\n",
              "    <path d=\"M0 0h24v24H0V0z\" fill=\"none\"/>\n",
              "    <path d=\"M18.56 5.44l.94 2.06.94-2.06 2.06-.94-2.06-.94-.94-2.06-.94 2.06-2.06.94zm-11 1L8.5 8.5l.94-2.06 2.06-.94-2.06-.94L8.5 2.5l-.94 2.06-2.06.94zm10 10l.94 2.06.94-2.06 2.06-.94-2.06-.94-.94-2.06-.94 2.06-2.06.94z\"/><path d=\"M17.41 7.96l-1.37-1.37c-.4-.4-.92-.59-1.43-.59-.52 0-1.04.2-1.43.59L10.3 9.45l-7.72 7.72c-.78.78-.78 2.05 0 2.83L4 21.41c.39.39.9.59 1.41.59.51 0 1.02-.2 1.41-.59l7.78-7.78 2.81-2.81c.8-.78.8-2.07 0-2.86zM5.41 20L4 18.59l7.72-7.72 1.47 1.35L5.41 20z\"/>\n",
              "  </svg>\n",
              "      </button>\n",
              "      \n",
              "  <style>\n",
              "    .colab-df-container {\n",
              "      display:flex;\n",
              "      flex-wrap:wrap;\n",
              "      gap: 12px;\n",
              "    }\n",
              "\n",
              "    .colab-df-convert {\n",
              "      background-color: #E8F0FE;\n",
              "      border: none;\n",
              "      border-radius: 50%;\n",
              "      cursor: pointer;\n",
              "      display: none;\n",
              "      fill: #1967D2;\n",
              "      height: 32px;\n",
              "      padding: 0 0 0 0;\n",
              "      width: 32px;\n",
              "    }\n",
              "\n",
              "    .colab-df-convert:hover {\n",
              "      background-color: #E2EBFA;\n",
              "      box-shadow: 0px 1px 2px rgba(60, 64, 67, 0.3), 0px 1px 3px 1px rgba(60, 64, 67, 0.15);\n",
              "      fill: #174EA6;\n",
              "    }\n",
              "\n",
              "    [theme=dark] .colab-df-convert {\n",
              "      background-color: #3B4455;\n",
              "      fill: #D2E3FC;\n",
              "    }\n",
              "\n",
              "    [theme=dark] .colab-df-convert:hover {\n",
              "      background-color: #434B5C;\n",
              "      box-shadow: 0px 1px 3px 1px rgba(0, 0, 0, 0.15);\n",
              "      filter: drop-shadow(0px 1px 2px rgba(0, 0, 0, 0.3));\n",
              "      fill: #FFFFFF;\n",
              "    }\n",
              "  </style>\n",
              "\n",
              "      <script>\n",
              "        const buttonEl =\n",
              "          document.querySelector('#df-83c345e7-6868-484c-8537-bd9247e7564f button.colab-df-convert');\n",
              "        buttonEl.style.display =\n",
              "          google.colab.kernel.accessAllowed ? 'block' : 'none';\n",
              "\n",
              "        async function convertToInteractive(key) {\n",
              "          const element = document.querySelector('#df-83c345e7-6868-484c-8537-bd9247e7564f');\n",
              "          const dataTable =\n",
              "            await google.colab.kernel.invokeFunction('convertToInteractive',\n",
              "                                                     [key], {});\n",
              "          if (!dataTable) return;\n",
              "\n",
              "          const docLinkHtml = 'Like what you see? Visit the ' +\n",
              "            '<a target=\"_blank\" href=https://colab.research.google.com/notebooks/data_table.ipynb>data table notebook</a>'\n",
              "            + ' to learn more about interactive tables.';\n",
              "          element.innerHTML = '';\n",
              "          dataTable['output_type'] = 'display_data';\n",
              "          await google.colab.output.renderOutput(dataTable, element);\n",
              "          const docLink = document.createElement('div');\n",
              "          docLink.innerHTML = docLinkHtml;\n",
              "          element.appendChild(docLink);\n",
              "        }\n",
              "      </script>\n",
              "    </div>\n",
              "  </div>\n",
              "  "
            ]
          },
          "metadata": {}
        }
      ]
    },
    {
      "cell_type": "code",
      "metadata": {
        "id": "91UujDr6ueqE",
        "colab": {
          "base_uri": "https://localhost:8080/",
          "height": 411
        },
        "outputId": "789f5c5d-47dd-4c99-d330-9b41fb40019c"
      },
      "source": [
        "# plotar um heatmap a partir das correlações\n",
        "sns.heatmap(corr, cmap='RdBu', fmt='.2f', square=True, linecolor='white', annot=True);"
      ],
      "execution_count": 42,
      "outputs": [
        {
          "output_type": "display_data",
          "data": {
            "text/plain": [
              "<Figure size 432x288 with 2 Axes>"
            ],
            "image/png": "[encoded data removed]"
          },
          "metadata": {
            "needs_background": "light"
          }
        }
      ]
    },
    {
      "cell_type": "markdown",
      "source": [
        "Já é esperado que a diagonal da matriz apresente uma correlação igual a 1, ou seja, isso mostra que quando comparamos a variável a ela mesma, as equivalências entre os valores sempre serão mantidas.\n",
        "\n",
        "Quanto mais longe do 0 o valor da correlação, significa que mais o valor de uma variável impacta na outra.\n",
        "\n",
        "Por exemplo, podemos ver que existe uma certa correlação entre a quantidade de imóveis que o proprietário possui e os preços. A disponibilidade e a quantidade de noites mínimas também tem influência nos preços.\n",
        "\n",
        "Na sequência, veremos mais algumas informações que podem ser obtidas deste Dataset."
      ],
      "metadata": {
        "id": "x4dExuN09WAQ"
      }
    },
    {
      "cell_type": "markdown",
      "metadata": {
        "id": "7b6RMWpuHKN-"
      },
      "source": [
        "### **Q8. Qual o tipo de imóvel mais alugado no Airbnb?**\n",
        "\n",
        "A coluna da variável `room_type` indica o tipo de locação que está anunciada no Airbnb. Se você já alugou no site, sabe que existem opções de apartamentos/casas inteiras, apenas o aluguel de um quarto ou mesmo dividir o quarto com outras pessoas.\n",
        "\n",
        "Vamos contar a quantidade de ocorrências de cada tipo de aluguel usando a função `value_counts()`."
      ]
    },
    {
      "cell_type": "code",
      "metadata": {
        "id": "ueLPNWvPHgfB",
        "colab": {
          "base_uri": "https://localhost:8080/"
        },
        "outputId": "e1206930-0064-44d2-9684-6b811b5c0826"
      },
      "source": [
        "# mostrar a quantidade de cada tipo de imóvel disponível\n",
        "df_clean.room_type.value_counts()"
      ],
      "execution_count": 41,
      "outputs": [
        {
          "output_type": "execute_result",
          "data": {
            "text/plain": [
              "Entire home/apt    3739\n",
              "Private room       3082\n",
              "Shared room         172\n",
              "Hotel room           74\n",
              "Name: room_type, dtype: int64"
            ]
          },
          "metadata": {},
          "execution_count": 41
        }
      ]
    },
    {
      "cell_type": "markdown",
      "source": [
        "Os valores acima tem os seguintes significados:\n",
        "\n",
        "`Entire home/apt` - Casa/apartamento completo;\n",
        "\n",
        "`Private room` - quarto privado;\n",
        "\n",
        "`Shared room` - quarto compartilhado;\n",
        "\n",
        "`Hotel room` - quarto de hotel;\n",
        "\n",
        "Podemos ver que existe a prevalência de imóveis completos para aluguel, seguido de perto por quartos privados. O número de quartos compartilhados e de quartos de hotel é bastante reduzido quando comparado aos dois tipos anteriores.\n",
        "\n",
        "Em percentuais, os valores de cada tipo de imóvel são os seguintes:"
      ],
      "metadata": {
        "id": "XFi6lgwG_AHo"
      }
    },
    {
      "cell_type": "code",
      "metadata": {
        "id": "EvwoO-XAHhIm",
        "colab": {
          "base_uri": "https://localhost:8080/"
        },
        "outputId": "50e8198b-e586-49d1-d15f-fc9628c9e22d"
      },
      "source": [
        "# mostrar a porcentagem de cada tipo de imóvel disponível\n",
        "(df_clean.room_type.value_counts()/df.shape[0])*100"
      ],
      "execution_count": 40,
      "outputs": [
        {
          "output_type": "execute_result",
          "data": {
            "text/plain": [
              "Entire home/apt    40.912572\n",
              "Private room       33.723602\n",
              "Shared room         1.882044\n",
              "Hotel room          0.809717\n",
              "Name: room_type, dtype: float64"
            ]
          },
          "metadata": {},
          "execution_count": 40
        }
      ]
    },
    {
      "cell_type": "markdown",
      "source": [
        "Podemos visualizar também o preço médio de cada tipo de imóvel:"
      ],
      "metadata": {
        "id": "WkP7uEj-DyA7"
      }
    },
    {
      "cell_type": "code",
      "source": [
        "df_clean.groupby(['room_type']).price.mean().sort_values(ascending=False)"
      ],
      "metadata": {
        "colab": {
          "base_uri": "https://localhost:8080/"
        },
        "id": "LYkv7m9KD8UQ",
        "outputId": "64c3dc76-a6c3-4ff9-9d15-09a469c1da2c"
      },
      "execution_count": 45,
      "outputs": [
        {
          "output_type": "execute_result",
          "data": {
            "text/plain": [
              "room_type\n",
              "Hotel room         52391.662162\n",
              "Entire home/apt    45143.566997\n",
              "Private room       26398.767683\n",
              "Shared room        21604.866279\n",
              "Name: price, dtype: float64"
            ]
          },
          "metadata": {},
          "execution_count": 45
        }
      ]
    },
    {
      "cell_type": "markdown",
      "source": [
        "Como podemos ver, quartos de hotel são mais caros em geral. Porém, como vimos anteriormente, eles representam uma pequena parcela dos imóveis disponíveis. Nestes casos, é interessante verificar se o preço médio dos quartos de hotel se distribui de maneira uniforme, ou se há algum anúncio em específico que está distoando dos demais e alterando a média em questão."
      ],
      "metadata": {
        "id": "He92fEgGECEY"
      }
    },
    {
      "cell_type": "code",
      "source": [
        "df_clean.loc[df_clean.room_type == \"Hotel room\"]"
      ],
      "metadata": {
        "colab": {
          "base_uri": "https://localhost:8080/",
          "height": 918
        },
        "id": "ZrcLdfVbEXtA",
        "outputId": "81577f78-19b2-4057-b2d3-958d0ecb8f89"
      },
      "execution_count": 49,
      "outputs": [
        {
          "output_type": "execute_result",
          "data": {
            "text/plain": [
              "                                                       name    host_id  \\\n",
              "id                                                                       \n",
              "1780552                                 Manquehue Apartment    9175393   \n",
              "3319358                 Habitaciones dobles o twin B/privad   10815594   \n",
              "5301544                      3. myLUXAPART Las Condes 1 hab    9175393   \n",
              "5396026                      Family Aparth - 4 a 6 personas   27971868   \n",
              "10428649          Aparthotel Norus Providencia-1 Dormitorio   53713616   \n",
              "...                                                     ...        ...   \n",
              "37451783           Magnifique chambre et excellente place!!  269325968   \n",
              "38210197                                      Bidasoa House  157555134   \n",
              "38487108  Habitación compartida de 6 camas con baño privado    4204978   \n",
              "38522799                        WIFI, Ubicacion Insuperable  293477164   \n",
              "38545811                        WIFI, Ubicacion Insuperable  293477164   \n",
              "\n",
              "                             host_name neighbourhood  latitude  longitude  \\\n",
              "id                                                                          \n",
              "1780552                         Andres    Las Condes -33.41191  -70.56742   \n",
              "3319358                          Clark      Santiago -33.44002  -70.64289   \n",
              "5301544                         Andres    Las Condes -33.41182  -70.56921   \n",
              "5396026   Santiago Apartamentos Centro      Santiago -33.43916  -70.65771   \n",
              "10428649                         Norus   Providencia -33.43114  -70.63036   \n",
              "...                                ...           ...       ...        ...   \n",
              "37451783                         Jorge   Providencia -33.43856  -70.61791   \n",
              "38210197                         Ruben      Vitacura -33.39905  -70.58598   \n",
              "38487108                           Ari      Santiago -33.43630  -70.64672   \n",
              "38522799                     Lib Hotel   Providencia -33.43403  -70.63509   \n",
              "38545811                     Lib Hotel   Providencia -33.43259  -70.63542   \n",
              "\n",
              "           room_type  price  minimum_nights  number_of_reviews last_review  \\\n",
              "id                                                                           \n",
              "1780552   Hotel room  68909               1                 67  2021-02-19   \n",
              "3319358   Hotel room  23000               1                  0         NaN   \n",
              "5301544   Hotel room  51682               1                 23  2020-03-15   \n",
              "5396026   Hotel room  86136               1                  1  2015-04-01   \n",
              "10428649  Hotel room  73336               1                 11  2021-11-13   \n",
              "...              ...    ...             ...                ...         ...   \n",
              "37451783  Hotel room  36000               1                  0         NaN   \n",
              "38210197  Hotel room  89250               1                  4  2020-03-18   \n",
              "38487108  Hotel room  12309               1                  4  2021-08-25   \n",
              "38522799  Hotel room  85000               1                  0         NaN   \n",
              "38545811  Hotel room  65000               1                  0         NaN   \n",
              "\n",
              "          reviews_per_month  calculated_host_listings_count  availability_365  \\\n",
              "id                                                                              \n",
              "1780552                0.67                               2                 0   \n",
              "3319358                 NaN                               2               365   \n",
              "5301544                0.31                               2                 0   \n",
              "5396026                0.01                               4               358   \n",
              "10428649               0.18                               3               365   \n",
              "...                     ...                             ...               ...   \n",
              "37451783                NaN                               3               365   \n",
              "38210197               0.18                               1               341   \n",
              "38487108               0.52                               9               165   \n",
              "38522799                NaN                               3               365   \n",
              "38545811                NaN                               3               365   \n",
              "\n",
              "          number_of_reviews_ltm  \n",
              "id                               \n",
              "1780552                       3  \n",
              "3319358                       0  \n",
              "5301544                       0  \n",
              "5396026                       0  \n",
              "10428649                      3  \n",
              "...                         ...  \n",
              "37451783                      0  \n",
              "38210197                      0  \n",
              "38487108                      4  \n",
              "38522799                      0  \n",
              "38545811                      0  \n",
              "\n",
              "[74 rows x 15 columns]"
            ],
            "text/html": [
              "\n",
              "  <div id=\"df-5d050739-a2dd-4d9c-ade3-9216c17817e8\">\n",
              "    <div class=\"colab-df-container\">\n",
              "      <div>\n",
              "<style scoped>\n",
              "    .dataframe tbody tr th:only-of-type {\n",
              "        vertical-align: middle;\n",
              "    }\n",
              "\n",
              "    .dataframe tbody tr th {\n",
              "        vertical-align: top;\n",
              "    }\n",
              "\n",
              "    .dataframe thead th {\n",
              "        text-align: right;\n",
              "    }\n",
              "</style>\n",
              "<table border=\"1\" class=\"dataframe\">\n",
              "  <thead>\n",
              "    <tr style=\"text-align: right;\">\n",
              "      <th></th>\n",
              "      <th>name</th>\n",
              "      <th>host_id</th>\n",
              "      <th>host_name</th>\n",
              "      <th>neighbourhood</th>\n",
              "      <th>latitude</th>\n",
              "      <th>longitude</th>\n",
              "      <th>room_type</th>\n",
              "      <th>price</th>\n",
              "      <th>minimum_nights</th>\n",
              "      <th>number_of_reviews</th>\n",
              "      <th>last_review</th>\n",
              "      <th>reviews_per_month</th>\n",
              "      <th>calculated_host_listings_count</th>\n",
              "      <th>availability_365</th>\n",
              "      <th>number_of_reviews_ltm</th>\n",
              "    </tr>\n",
              "    <tr>\n",
              "      <th>id</th>\n",
              "      <th></th>\n",
              "      <th></th>\n",
              "      <th></th>\n",
              "      <th></th>\n",
              "      <th></th>\n",
              "      <th></th>\n",
              "      <th></th>\n",
              "      <th></th>\n",
              "      <th></th>\n",
              "      <th></th>\n",
              "      <th></th>\n",
              "      <th></th>\n",
              "      <th></th>\n",
              "      <th></th>\n",
              "      <th></th>\n",
              "    </tr>\n",
              "  </thead>\n",
              "  <tbody>\n",
              "    <tr>\n",
              "      <th>1780552</th>\n",
              "      <td>Manquehue Apartment</td>\n",
              "      <td>9175393</td>\n",
              "      <td>Andres</td>\n",
              "      <td>Las Condes</td>\n",
              "      <td>-33.41191</td>\n",
              "      <td>-70.56742</td>\n",
              "      <td>Hotel room</td>\n",
              "      <td>68909</td>\n",
              "      <td>1</td>\n",
              "      <td>67</td>\n",
              "      <td>2021-02-19</td>\n",
              "      <td>0.67</td>\n",
              "      <td>2</td>\n",
              "      <td>0</td>\n",
              "      <td>3</td>\n",
              "    </tr>\n",
              "    <tr>\n",
              "      <th>3319358</th>\n",
              "      <td>Habitaciones dobles o twin B/privad</td>\n",
              "      <td>10815594</td>\n",
              "      <td>Clark</td>\n",
              "      <td>Santiago</td>\n",
              "      <td>-33.44002</td>\n",
              "      <td>-70.64289</td>\n",
              "      <td>Hotel room</td>\n",
              "      <td>23000</td>\n",
              "      <td>1</td>\n",
              "      <td>0</td>\n",
              "      <td>NaN</td>\n",
              "      <td>NaN</td>\n",
              "      <td>2</td>\n",
              "      <td>365</td>\n",
              "      <td>0</td>\n",
              "    </tr>\n",
              "    <tr>\n",
              "      <th>5301544</th>\n",
              "      <td>3. myLUXAPART Las Condes 1 hab</td>\n",
              "      <td>9175393</td>\n",
              "      <td>Andres</td>\n",
              "      <td>Las Condes</td>\n",
              "      <td>-33.41182</td>\n",
              "      <td>-70.56921</td>\n",
              "      <td>Hotel room</td>\n",
              "      <td>51682</td>\n",
              "      <td>1</td>\n",
              "      <td>23</td>\n",
              "      <td>2020-03-15</td>\n",
              "      <td>0.31</td>\n",
              "      <td>2</td>\n",
              "      <td>0</td>\n",
              "      <td>0</td>\n",
              "    </tr>\n",
              "    <tr>\n",
              "      <th>5396026</th>\n",
              "      <td>Family Aparth - 4 a 6 personas</td>\n",
              "      <td>27971868</td>\n",
              "      <td>Santiago Apartamentos Centro</td>\n",
              "      <td>Santiago</td>\n",
              "      <td>-33.43916</td>\n",
              "      <td>-70.65771</td>\n",
              "      <td>Hotel room</td>\n",
              "      <td>86136</td>\n",
              "      <td>1</td>\n",
              "      <td>1</td>\n",
              "      <td>2015-04-01</td>\n",
              "      <td>0.01</td>\n",
              "      <td>4</td>\n",
              "      <td>358</td>\n",
              "      <td>0</td>\n",
              "    </tr>\n",
              "    <tr>\n",
              "      <th>10428649</th>\n",
              "      <td>Aparthotel Norus Providencia-1 Dormitorio</td>\n",
              "      <td>53713616</td>\n",
              "      <td>Norus</td>\n",
              "      <td>Providencia</td>\n",
              "      <td>-33.43114</td>\n",
              "      <td>-70.63036</td>\n",
              "      <td>Hotel room</td>\n",
              "      <td>73336</td>\n",
              "      <td>1</td>\n",
              "      <td>11</td>\n",
              "      <td>2021-11-13</td>\n",
              "      <td>0.18</td>\n",
              "      <td>3</td>\n",
              "      <td>365</td>\n",
              "      <td>3</td>\n",
              "    </tr>\n",
              "    <tr>\n",
              "      <th>...</th>\n",
              "      <td>...</td>\n",
              "      <td>...</td>\n",
              "      <td>...</td>\n",
              "      <td>...</td>\n",
              "      <td>...</td>\n",
              "      <td>...</td>\n",
              "      <td>...</td>\n",
              "      <td>...</td>\n",
              "      <td>...</td>\n",
              "      <td>...</td>\n",
              "      <td>...</td>\n",
              "      <td>...</td>\n",
              "      <td>...</td>\n",
              "      <td>...</td>\n",
              "      <td>...</td>\n",
              "    </tr>\n",
              "    <tr>\n",
              "      <th>37451783</th>\n",
              "      <td>Magnifique chambre et excellente place!!</td>\n",
              "      <td>269325968</td>\n",
              "      <td>Jorge</td>\n",
              "      <td>Providencia</td>\n",
              "      <td>-33.43856</td>\n",
              "      <td>-70.61791</td>\n",
              "      <td>Hotel room</td>\n",
              "      <td>36000</td>\n",
              "      <td>1</td>\n",
              "      <td>0</td>\n",
              "      <td>NaN</td>\n",
              "      <td>NaN</td>\n",
              "      <td>3</td>\n",
              "      <td>365</td>\n",
              "      <td>0</td>\n",
              "    </tr>\n",
              "    <tr>\n",
              "      <th>38210197</th>\n",
              "      <td>Bidasoa House</td>\n",
              "      <td>157555134</td>\n",
              "      <td>Ruben</td>\n",
              "      <td>Vitacura</td>\n",
              "      <td>-33.39905</td>\n",
              "      <td>-70.58598</td>\n",
              "      <td>Hotel room</td>\n",
              "      <td>89250</td>\n",
              "      <td>1</td>\n",
              "      <td>4</td>\n",
              "      <td>2020-03-18</td>\n",
              "      <td>0.18</td>\n",
              "      <td>1</td>\n",
              "      <td>341</td>\n",
              "      <td>0</td>\n",
              "    </tr>\n",
              "    <tr>\n",
              "      <th>38487108</th>\n",
              "      <td>Habitación compartida de 6 camas con baño privado</td>\n",
              "      <td>4204978</td>\n",
              "      <td>Ari</td>\n",
              "      <td>Santiago</td>\n",
              "      <td>-33.43630</td>\n",
              "      <td>-70.64672</td>\n",
              "      <td>Hotel room</td>\n",
              "      <td>12309</td>\n",
              "      <td>1</td>\n",
              "      <td>4</td>\n",
              "      <td>2021-08-25</td>\n",
              "      <td>0.52</td>\n",
              "      <td>9</td>\n",
              "      <td>165</td>\n",
              "      <td>4</td>\n",
              "    </tr>\n",
              "    <tr>\n",
              "      <th>38522799</th>\n",
              "      <td>WIFI, Ubicacion Insuperable</td>\n",
              "      <td>293477164</td>\n",
              "      <td>Lib Hotel</td>\n",
              "      <td>Providencia</td>\n",
              "      <td>-33.43403</td>\n",
              "      <td>-70.63509</td>\n",
              "      <td>Hotel room</td>\n",
              "      <td>85000</td>\n",
              "      <td>1</td>\n",
              "      <td>0</td>\n",
              "      <td>NaN</td>\n",
              "      <td>NaN</td>\n",
              "      <td>3</td>\n",
              "      <td>365</td>\n",
              "      <td>0</td>\n",
              "    </tr>\n",
              "    <tr>\n",
              "      <th>38545811</th>\n",
              "      <td>WIFI, Ubicacion Insuperable</td>\n",
              "      <td>293477164</td>\n",
              "      <td>Lib Hotel</td>\n",
              "      <td>Providencia</td>\n",
              "      <td>-33.43259</td>\n",
              "      <td>-70.63542</td>\n",
              "      <td>Hotel room</td>\n",
              "      <td>65000</td>\n",
              "      <td>1</td>\n",
              "      <td>0</td>\n",
              "      <td>NaN</td>\n",
              "      <td>NaN</td>\n",
              "      <td>3</td>\n",
              "      <td>365</td>\n",
              "      <td>0</td>\n",
              "    </tr>\n",
              "  </tbody>\n",
              "</table>\n",
              "<p>74 rows × 15 columns</p>\n",
              "</div>\n",
              "      <button class=\"colab-df-convert\" onclick=\"convertToInteractive('df-5d050739-a2dd-4d9c-ade3-9216c17817e8')\"\n",
              "              title=\"Convert this dataframe to an interactive table.\"\n",
              "              style=\"display:none;\">\n",
              "        \n",
              "  <svg xmlns=\"http://www.w3.org/2000/svg\" height=\"24px\"viewBox=\"0 0 24 24\"\n",
              "       width=\"24px\">\n",
              "    <path d=\"M0 0h24v24H0V0z\" fill=\"none\"/>\n",
              "    <path d=\"M18.56 5.44l.94 2.06.94-2.06 2.06-.94-2.06-.94-.94-2.06-.94 2.06-2.06.94zm-11 1L8.5 8.5l.94-2.06 2.06-.94-2.06-.94L8.5 2.5l-.94 2.06-2.06.94zm10 10l.94 2.06.94-2.06 2.06-.94-2.06-.94-.94-2.06-.94 2.06-2.06.94z\"/><path d=\"M17.41 7.96l-1.37-1.37c-.4-.4-.92-.59-1.43-.59-.52 0-1.04.2-1.43.59L10.3 9.45l-7.72 7.72c-.78.78-.78 2.05 0 2.83L4 21.41c.39.39.9.59 1.41.59.51 0 1.02-.2 1.41-.59l7.78-7.78 2.81-2.81c.8-.78.8-2.07 0-2.86zM5.41 20L4 18.59l7.72-7.72 1.47 1.35L5.41 20z\"/>\n",
              "  </svg>\n",
              "      </button>\n",
              "      \n",
              "  <style>\n",
              "    .colab-df-container {\n",
              "      display:flex;\n",
              "      flex-wrap:wrap;\n",
              "      gap: 12px;\n",
              "    }\n",
              "\n",
              "    .colab-df-convert {\n",
              "      background-color: #E8F0FE;\n",
              "      border: none;\n",
              "      border-radius: 50%;\n",
              "      cursor: pointer;\n",
              "      display: none;\n",
              "      fill: #1967D2;\n",
              "      height: 32px;\n",
              "      padding: 0 0 0 0;\n",
              "      width: 32px;\n",
              "    }\n",
              "\n",
              "    .colab-df-convert:hover {\n",
              "      background-color: #E2EBFA;\n",
              "      box-shadow: 0px 1px 2px rgba(60, 64, 67, 0.3), 0px 1px 3px 1px rgba(60, 64, 67, 0.15);\n",
              "      fill: #174EA6;\n",
              "    }\n",
              "\n",
              "    [theme=dark] .colab-df-convert {\n",
              "      background-color: #3B4455;\n",
              "      fill: #D2E3FC;\n",
              "    }\n",
              "\n",
              "    [theme=dark] .colab-df-convert:hover {\n",
              "      background-color: #434B5C;\n",
              "      box-shadow: 0px 1px 3px 1px rgba(0, 0, 0, 0.15);\n",
              "      filter: drop-shadow(0px 1px 2px rgba(0, 0, 0, 0.3));\n",
              "      fill: #FFFFFF;\n",
              "    }\n",
              "  </style>\n",
              "\n",
              "      <script>\n",
              "        const buttonEl =\n",
              "          document.querySelector('#df-5d050739-a2dd-4d9c-ade3-9216c17817e8 button.colab-df-convert');\n",
              "        buttonEl.style.display =\n",
              "          google.colab.kernel.accessAllowed ? 'block' : 'none';\n",
              "\n",
              "        async function convertToInteractive(key) {\n",
              "          const element = document.querySelector('#df-5d050739-a2dd-4d9c-ade3-9216c17817e8');\n",
              "          const dataTable =\n",
              "            await google.colab.kernel.invokeFunction('convertToInteractive',\n",
              "                                                     [key], {});\n",
              "          if (!dataTable) return;\n",
              "\n",
              "          const docLinkHtml = 'Like what you see? Visit the ' +\n",
              "            '<a target=\"_blank\" href=https://colab.research.google.com/notebooks/data_table.ipynb>data table notebook</a>'\n",
              "            + ' to learn more about interactive tables.';\n",
              "          element.innerHTML = '';\n",
              "          dataTable['output_type'] = 'display_data';\n",
              "          await google.colab.output.renderOutput(dataTable, element);\n",
              "          const docLink = document.createElement('div');\n",
              "          docLink.innerHTML = docLinkHtml;\n",
              "          element.appendChild(docLink);\n",
              "        }\n",
              "      </script>\n",
              "    </div>\n",
              "  </div>\n",
              "  "
            ]
          },
          "metadata": {},
          "execution_count": 49
        }
      ]
    },
    {
      "cell_type": "markdown",
      "source": [
        "Por padrão, são exibidas as 10 primeiras linhas da pesquisa. Porém, podemos ver que o número de quartos de hotel é igual a 74 (é igual ao número de linhas da tabela acima), uma quantidade razoável para ser analisada. \n",
        "\n",
        "Assim sendo, o valor de preço de um imóvel apenas não seria suficiente para alterar significativamente a média de preços. Logo, concluímos que quartos de hotel são geralmente mais caros para se alugar em Santiago através do *Airbnb*.\n"
      ],
      "metadata": {
        "id": "r6Y3DU8hE6r_"
      }
    },
    {
      "cell_type": "markdown",
      "metadata": {
        "id": "MFa5NbnLJMcd"
      },
      "source": [
        "### **Q9. Qual a localidade mais cara do dataset?**\n",
        "\n",
        "Para qualquer turista, sempre é interessante saber quais são os bairros mais caros para se hospedar em uma cidade. Obviamente, algumas vezes esta diferença de preços é justificada, seja por uma localização privilegiada, por maior segurança, etc.\n",
        "\n",
        "Uma maneira de se verificar uma variável em função da outra é usando `groupby()`. No caso, queremos comparar os bairros (neighbourhoods) a partir do preço de locação.\n"
      ]
    },
    {
      "cell_type": "code",
      "metadata": {
        "id": "MD_xa143JZpi",
        "colab": {
          "base_uri": "https://localhost:8080/"
        },
        "outputId": "7159b16c-fdb5-4093-bfe7-1c976a928b9f"
      },
      "source": [
        "# ver preços por bairros, na média\n",
        "df_clean.groupby(['neighbourhood']).price.mean().sort_values(ascending=False)"
      ],
      "execution_count": 39,
      "outputs": [
        {
          "output_type": "execute_result",
          "data": {
            "text/plain": [
              "neighbourhood\n",
              "Lo Espejo              97540.000000\n",
              "Lo Barnechea           56979.733333\n",
              "Las Condes             45850.338109\n",
              "Vitacura               45632.385621\n",
              "Cerro Navia            41657.833333\n",
              "Pudahuel               40283.608696\n",
              "Providencia            40274.294643\n",
              "Renca                  38517.000000\n",
              "Quilicura              35067.428571\n",
              "Huechuraba             34851.605263\n",
              "Recoleta               34648.873016\n",
              "Santiago               34081.870869\n",
              "Peñalolén              32449.388889\n",
              "Estación Central       31826.336066\n",
              "La Florida             31446.304762\n",
              "Ñuñoa                  28733.047377\n",
              "San Miguel             27730.625000\n",
              "Maipú                  26488.924242\n",
              "Macul                  25614.696629\n",
              "Cerrillos              25396.000000\n",
              "San Joaquín            24671.547619\n",
              "La Cisterna            23838.586207\n",
              "La Reina               23719.588235\n",
              "Conchalí               22724.428571\n",
              "La Granja              22529.000000\n",
              "Independencia          22252.875000\n",
              "El Bosque              21920.500000\n",
              "Quinta Normal          20841.030303\n",
              "Pedro Aguirre Cerda    20430.500000\n",
              "Lo Prado               19093.714286\n",
              "Name: price, dtype: float64"
            ]
          },
          "metadata": {},
          "execution_count": 39
        }
      ]
    },
    {
      "cell_type": "markdown",
      "source": [
        "Olhando os valores acima, percebemos que o bairro Lo Espejo é disparadamente mais caro do que os demais (quase o dobro do preço do segundo colocado). \n",
        "\n",
        "Abaixo, veremos se este valor é representativo ou não, listando todos os imóveis localizados nele:"
      ],
      "metadata": {
        "id": "r2LpJipgEVIE"
      }
    },
    {
      "cell_type": "code",
      "source": [
        "df_clean.loc[df_clean.neighbourhood == \"Lo Espejo\"]"
      ],
      "metadata": {
        "colab": {
          "base_uri": "https://localhost:8080/",
          "height": 245
        },
        "id": "vcDIS2cdEmnK",
        "outputId": "623e9750-c396-4a40-9d8f-b79bd641b74e"
      },
      "execution_count": null,
      "outputs": [
        {
          "output_type": "execute_result",
          "data": {
            "text/plain": [
              "                                        name   host_id host_name  \\\n",
              "id                                                                 \n",
              "6386713  viaja a la copa america con comodid  33289113    Angela   \n",
              "\n",
              "        neighbourhood  latitude  longitude     room_type  price  \\\n",
              "id                                                                \n",
              "6386713     Lo Espejo -33.51676  -70.67502  Private room  97540   \n",
              "\n",
              "         minimum_nights  number_of_reviews last_review  reviews_per_month  \\\n",
              "id                                                                          \n",
              "6386713               1                  0         NaN                NaN   \n",
              "\n",
              "         calculated_host_listings_count  availability_365  \\\n",
              "id                                                          \n",
              "6386713                               1               365   \n",
              "\n",
              "         number_of_reviews_ltm license  \n",
              "id                                      \n",
              "6386713                      0     NaN  "
            ],
            "text/html": [
              "\n",
              "  <div id=\"df-4f82a004-523a-41e5-b331-0dc5fe772b92\">\n",
              "    <div class=\"colab-df-container\">\n",
              "      <div>\n",
              "<style scoped>\n",
              "    .dataframe tbody tr th:only-of-type {\n",
              "        vertical-align: middle;\n",
              "    }\n",
              "\n",
              "    .dataframe tbody tr th {\n",
              "        vertical-align: top;\n",
              "    }\n",
              "\n",
              "    .dataframe thead th {\n",
              "        text-align: right;\n",
              "    }\n",
              "</style>\n",
              "<table border=\"1\" class=\"dataframe\">\n",
              "  <thead>\n",
              "    <tr style=\"text-align: right;\">\n",
              "      <th></th>\n",
              "      <th>name</th>\n",
              "      <th>host_id</th>\n",
              "      <th>host_name</th>\n",
              "      <th>neighbourhood</th>\n",
              "      <th>latitude</th>\n",
              "      <th>longitude</th>\n",
              "      <th>room_type</th>\n",
              "      <th>price</th>\n",
              "      <th>minimum_nights</th>\n",
              "      <th>number_of_reviews</th>\n",
              "      <th>last_review</th>\n",
              "      <th>reviews_per_month</th>\n",
              "      <th>calculated_host_listings_count</th>\n",
              "      <th>availability_365</th>\n",
              "      <th>number_of_reviews_ltm</th>\n",
              "      <th>license</th>\n",
              "    </tr>\n",
              "    <tr>\n",
              "      <th>id</th>\n",
              "      <th></th>\n",
              "      <th></th>\n",
              "      <th></th>\n",
              "      <th></th>\n",
              "      <th></th>\n",
              "      <th></th>\n",
              "      <th></th>\n",
              "      <th></th>\n",
              "      <th></th>\n",
              "      <th></th>\n",
              "      <th></th>\n",
              "      <th></th>\n",
              "      <th></th>\n",
              "      <th></th>\n",
              "      <th></th>\n",
              "      <th></th>\n",
              "    </tr>\n",
              "  </thead>\n",
              "  <tbody>\n",
              "    <tr>\n",
              "      <th>6386713</th>\n",
              "      <td>viaja a la copa america con comodid</td>\n",
              "      <td>33289113</td>\n",
              "      <td>Angela</td>\n",
              "      <td>Lo Espejo</td>\n",
              "      <td>-33.51676</td>\n",
              "      <td>-70.67502</td>\n",
              "      <td>Private room</td>\n",
              "      <td>97540</td>\n",
              "      <td>1</td>\n",
              "      <td>0</td>\n",
              "      <td>NaN</td>\n",
              "      <td>NaN</td>\n",
              "      <td>1</td>\n",
              "      <td>365</td>\n",
              "      <td>0</td>\n",
              "      <td>NaN</td>\n",
              "    </tr>\n",
              "  </tbody>\n",
              "</table>\n",
              "</div>\n",
              "      <button class=\"colab-df-convert\" onclick=\"convertToInteractive('df-4f82a004-523a-41e5-b331-0dc5fe772b92')\"\n",
              "              title=\"Convert this dataframe to an interactive table.\"\n",
              "              style=\"display:none;\">\n",
              "        \n",
              "  <svg xmlns=\"http://www.w3.org/2000/svg\" height=\"24px\"viewBox=\"0 0 24 24\"\n",
              "       width=\"24px\">\n",
              "    <path d=\"M0 0h24v24H0V0z\" fill=\"none\"/>\n",
              "    <path d=\"M18.56 5.44l.94 2.06.94-2.06 2.06-.94-2.06-.94-.94-2.06-.94 2.06-2.06.94zm-11 1L8.5 8.5l.94-2.06 2.06-.94-2.06-.94L8.5 2.5l-.94 2.06-2.06.94zm10 10l.94 2.06.94-2.06 2.06-.94-2.06-.94-.94-2.06-.94 2.06-2.06.94z\"/><path d=\"M17.41 7.96l-1.37-1.37c-.4-.4-.92-.59-1.43-.59-.52 0-1.04.2-1.43.59L10.3 9.45l-7.72 7.72c-.78.78-.78 2.05 0 2.83L4 21.41c.39.39.9.59 1.41.59.51 0 1.02-.2 1.41-.59l7.78-7.78 2.81-2.81c.8-.78.8-2.07 0-2.86zM5.41 20L4 18.59l7.72-7.72 1.47 1.35L5.41 20z\"/>\n",
              "  </svg>\n",
              "      </button>\n",
              "      \n",
              "  <style>\n",
              "    .colab-df-container {\n",
              "      display:flex;\n",
              "      flex-wrap:wrap;\n",
              "      gap: 12px;\n",
              "    }\n",
              "\n",
              "    .colab-df-convert {\n",
              "      background-color: #E8F0FE;\n",
              "      border: none;\n",
              "      border-radius: 50%;\n",
              "      cursor: pointer;\n",
              "      display: none;\n",
              "      fill: #1967D2;\n",
              "      height: 32px;\n",
              "      padding: 0 0 0 0;\n",
              "      width: 32px;\n",
              "    }\n",
              "\n",
              "    .colab-df-convert:hover {\n",
              "      background-color: #E2EBFA;\n",
              "      box-shadow: 0px 1px 2px rgba(60, 64, 67, 0.3), 0px 1px 3px 1px rgba(60, 64, 67, 0.15);\n",
              "      fill: #174EA6;\n",
              "    }\n",
              "\n",
              "    [theme=dark] .colab-df-convert {\n",
              "      background-color: #3B4455;\n",
              "      fill: #D2E3FC;\n",
              "    }\n",
              "\n",
              "    [theme=dark] .colab-df-convert:hover {\n",
              "      background-color: #434B5C;\n",
              "      box-shadow: 0px 1px 3px 1px rgba(0, 0, 0, 0.15);\n",
              "      filter: drop-shadow(0px 1px 2px rgba(0, 0, 0, 0.3));\n",
              "      fill: #FFFFFF;\n",
              "    }\n",
              "  </style>\n",
              "\n",
              "      <script>\n",
              "        const buttonEl =\n",
              "          document.querySelector('#df-4f82a004-523a-41e5-b331-0dc5fe772b92 button.colab-df-convert');\n",
              "        buttonEl.style.display =\n",
              "          google.colab.kernel.accessAllowed ? 'block' : 'none';\n",
              "\n",
              "        async function convertToInteractive(key) {\n",
              "          const element = document.querySelector('#df-4f82a004-523a-41e5-b331-0dc5fe772b92');\n",
              "          const dataTable =\n",
              "            await google.colab.kernel.invokeFunction('convertToInteractive',\n",
              "                                                     [key], {});\n",
              "          if (!dataTable) return;\n",
              "\n",
              "          const docLinkHtml = 'Like what you see? Visit the ' +\n",
              "            '<a target=\"_blank\" href=https://colab.research.google.com/notebooks/data_table.ipynb>data table notebook</a>'\n",
              "            + ' to learn more about interactive tables.';\n",
              "          element.innerHTML = '';\n",
              "          dataTable['output_type'] = 'display_data';\n",
              "          await google.colab.output.renderOutput(dataTable, element);\n",
              "          const docLink = document.createElement('div');\n",
              "          docLink.innerHTML = docLinkHtml;\n",
              "          element.appendChild(docLink);\n",
              "        }\n",
              "      </script>\n",
              "    </div>\n",
              "  </div>\n",
              "  "
            ]
          },
          "metadata": {},
          "execution_count": 65
        }
      ]
    },
    {
      "cell_type": "markdown",
      "source": [
        "Podemos ver que apenas 1 imóvel localizado neste bairro está listado, e portanto, este valor de aluguel diário pode não ser representativo.\n",
        "\n",
        "Abaixo, está representada a distribuição dos imóveis pelas coordenadas de latitude (x) e longitude (y)."
      ],
      "metadata": {
        "id": "6fde6mKZGRkm"
      }
    },
    {
      "cell_type": "code",
      "metadata": {
        "id": "UxVJqJ_3W59I",
        "colab": {
          "base_uri": "https://localhost:8080/",
          "height": 476
        },
        "outputId": "c93be56b-c850-4522-ae90-e4c875c4ef49"
      },
      "source": [
        "# plotar os imóveis pela latitude-longitude\n",
        "df_clean.plot(kind=\"scatter\", x='longitude', y='latitude', alpha=0.4, c=df_clean['price'], s=8,\n",
        "              cmap=plt.get_cmap('jet'), figsize=(12,8));"
      ],
      "execution_count": null,
      "outputs": [
        {
          "output_type": "display_data",
          "data": {
            "text/plain": [
              "<Figure size 864x576 with 2 Axes>"
            ],
            "image/png": "[encoded data removed]"
          },
          "metadata": {
            "needs_background": "light"
          }
        }
      ]
    },
    {
      "cell_type": "markdown",
      "metadata": {
        "id": "vTneAMRUYvr1"
      },
      "source": [
        "### **Q10. Qual é a média do mínimo de noites para aluguel (minimum_nights)?**\n",
        "\n",
        "O mínimo de noites para aluguel é um pré-requisito especificado pelo dono da propriedade, e indica a quantidade mínima de noites que o cliente deverá pagar para ter acesso à propriedade."
      ]
    },
    {
      "cell_type": "code",
      "metadata": {
        "id": "_VzNhrEgY82N",
        "colab": {
          "base_uri": "https://localhost:8080/"
        },
        "outputId": "a69cbed3-2f4b-430f-fb3f-7805744a37d0"
      },
      "source": [
        "# ver a média da coluna `minimum_nights``\n",
        "round(df_clean.minimum_nights.mean(),0)"
      ],
      "execution_count": 51,
      "outputs": [
        {
          "output_type": "execute_result",
          "data": {
            "text/plain": [
              "2.0"
            ]
          },
          "metadata": {},
          "execution_count": 51
        }
      ]
    },
    {
      "cell_type": "markdown",
      "source": [
        "Em geral, os proprietários exigem um aluguel de pelo menos 2 dias do imóvel."
      ],
      "metadata": {
        "id": "p50aBSLxH43I"
      }
    },
    {
      "cell_type": "markdown",
      "metadata": {
        "id": "GkvAg623RjoR"
      },
      "source": [
        "## Conclusões\n"
      ]
    },
    {
      "cell_type": "markdown",
      "metadata": {
        "id": "rbZ3Hsy9Ypw8"
      },
      "source": [
        "Através de dados retirados do próprio site da **Airbnb**, foi possível obter alguns dados interessantes sobre a cidade de Santiago, no Chile.\n",
        "\n",
        "Apesar do conjunto de dados possuir alguns *outliers*, algumas considerações podem ser feitas.\n",
        "A primeira é que boa parte dos imóveis (50% deles, segundo este conjunto de dados) podem ser alugados por valores de até 35000 pesos chilenos (o equivalente a 205 reais por dia, na cotação atual), considerando a totalidade dos dados. Caso os *outliers* sejam desconsiderados, este valor cai para 32286 pesos(190 reais).\n",
        "\n",
        "Disponibilidade parece não ser um problema em Santiago, pois 50% dos imóveis encontram-se disponíveis em mais de 300 dias do ano (316, para ser mais preciso).\n",
        "\n",
        "Boa parte dos imóveis (75% deles) requer, no máximo, 3 noites de aluguel como requisito mínimo. Convenhamos que, para alguém esteja a passeio na cidade, 3 dias é um número bastante aceitável.\n",
        "\n",
        "Por fim, devemos levar em consideração que este DataSet é apenas uma versão resumida dos dados disponíveis para Santiago. Na versão mais completa, é possível analisar 106 variáveis no total, o que seria ideal para uma análise mais aprofundada."
      ]
    },
    {
      "cell_type": "code",
      "source": [
        ""
      ],
      "metadata": {
        "id": "ZPe5S4BUQvz1"
      },
      "execution_count": null,
      "outputs": []
    }
  ]
}
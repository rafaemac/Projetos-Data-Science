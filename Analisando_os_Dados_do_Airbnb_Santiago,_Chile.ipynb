{
  "nbformat": 4,
  "nbformat_minor": 0,
  "metadata": {
    "colab": {
      "name": "Analisando os Dados do Airbnb - Santiago, Chile.ipynb",
      "provenance": [],
      "collapsed_sections": [],
      "include_colab_link": true
    },
    "kernelspec": {
      "name": "python3",
      "display_name": "Python 3"
    }
  },
  "cells": [
    {
      "cell_type": "markdown",
      "metadata": {
        "id": "view-in-github",
        "colab_type": "text"
      },
      "source": [
        "<a href=\"https://colab.research.google.com/github/rafaemac/Projetos-Data-Science/blob/main/Analisando_os_Dados_do_Airbnb_Santiago%2C_Chile.ipynb\" target=\"_parent\"><img src=\"https://colab.research.google.com/assets/colab-badge.svg\" alt=\"Open In Colab\"/></a>"
      ]
    },
    {
      "cell_type": "markdown",
      "metadata": {
        "id": "kLI0gJtzDGuQ"
      },
      "source": [
        "<img alt=\"Colaboratory logo\" width=\"15%\" src=\"https://raw.githubusercontent.com/carlosfab/escola-data-science/master/img/novo_logo_bg_claro.png\">\n",
        "\n",
        "#### **Data Science na Prática 3.0**\n",
        "*by [sigmoidal.ai](https://sigmoidal.ai)*\n",
        "\n",
        "---\n",
        "\n",
        "# Análise dos Dados do Airbnb - *Santiago, Chile*\n",
        "\n",
        "O [Airbnb](https://www.airbnb.com.br/) já é considerado como sendo a **maior empresa hoteleira da atualidade**. Ah, o detalhe é que ele **não possui nenhum hotel**!\n",
        "\n",
        "Conectando pessoas que querem viajar (e se hospedar) com anfitriões que querem alugar seus imóveis de maneira prática, o Airbnb fornece uma plataforma inovadora para tornar essa hospedagem alternativa.\n",
        "\n",
        "No final de 2018, a Startup fundada 10 anos atrás, já havia **hospedado mais de 300 milhões** de pessoas ao redor de todo o mundo, desafiando as redes hoteleiras tradicionais.\n",
        "\n",
        "Uma das iniciativas do Airbnb é disponibilizar dados do site, para algumas das principais cidades do mundo. Por meio do portal [Inside Airbnb](http://insideairbnb.com/get-the-data.html), é possível baixar uma grande quantidade de dados para desenvolver projetos e soluções de *Data Science*.\n",
        "\n",
        "<center><img alt=\"Analisando Airbnb\" width=\"10%\" src=\"https://www.area360.com.au/wp-content/uploads/2017/09/airbnb-logo.jpg\"></center>\n",
        "\n",
        "**Neste *notebook*, iremos analisar os dados referentes à cidade de Santiago, no Chile, e ver quais insights podem ser extraídos a partir de dados brutos.**"
      ]
    },
    {
      "cell_type": "markdown",
      "metadata": {
        "id": "0zxQHhIUDF_2"
      },
      "source": [
        "## Obtenção dos Dados\n"
      ]
    },
    {
      "cell_type": "code",
      "metadata": {
        "id": "Vhp2wMPgJ6zX"
      },
      "source": [
        "# importar os pacotes necessarios\n",
        "import pandas as pd\n",
        "import matplotlib.pyplot as plt\n",
        "import seaborn as sns\n",
        "\n",
        "%matplotlib inline"
      ],
      "execution_count": null,
      "outputs": []
    },
    {
      "cell_type": "code",
      "metadata": {
        "id": "tUmoAT8DLQ5T"
      },
      "source": [
        "# importar o arquivo listings.csv para um DataFrame e colocar o ID como indexador\n",
        "df = pd.read_csv(\"/content/Santiago.csv\",\n",
        "                 index_col=\"id\")"
      ],
      "execution_count": null,
      "outputs": []
    },
    {
      "cell_type": "markdown",
      "metadata": {
        "id": "qb5By2nIMS6m"
      },
      "source": [
        "## Análise dos Dados\n"
      ]
    },
    {
      "cell_type": "markdown",
      "metadata": {
        "id": "RYgvuebKNg8-"
      },
      "source": [
        "**Dicionário das variáveis**\n",
        "\n",
        "* `Id` - número de id gerado para o imóvel em questão;\n",
        "* `name`- nome da propriedade anunciada;   \n",
        "* `host_id` - id ligada ao locatário da propriedade;\n",
        "* `host_name` - nome do proprietário/anfitrião;\n",
        "* `neighbourhood_group` - coluna sem nenhum valor válido;\n",
        "* `neighbourhood` - nome do bairro;\n",
        "* `latitude` - coordenada de latitude da propriedade;\n",
        "* `longitude` - coordenada de longitude da propriedade;\n",
        "* `room_type` - informa o tipo de quarto oferecido;\n",
        "* `price` - informa o preço diário do aluguel;\n",
        "* `minimum_nights` - informa o número mínimo de noites para aluguel;\n",
        "* `number_of_reviews` - número de reviews que a propriedade possui;\n",
        "* `last_review` - data do último review;\n",
        "* `reviews_per_month` - quantidade mensal de reviews;\n",
        "* `calculated_host_listings_count` - quantidade de imóveis do anfitrião;\n",
        "* `availability_365` - número de dias por ano em que a propriedade esteve disponível\n",
        "\n",
        "Antes de iniciar qualquer análise, vamos verificar a cara do nosso *dataset*, analisando as 5 primeiras entradas."
      ]
    },
    {
      "cell_type": "code",
      "metadata": {
        "id": "2iS_dae7YQtO",
        "colab": {
          "base_uri": "https://localhost:8080/",
          "height": 492
        },
        "outputId": "e4b6c942-7428-4a4b-e88f-bd1652f94b35"
      },
      "source": [
        "# mostrar as 5 primeiras entradas\n",
        "df.head(5)"
      ],
      "execution_count": null,
      "outputs": [
        {
          "output_type": "execute_result",
          "data": {
            "text/plain": [
              "                                     name  host_id host_name  \\\n",
              "id                                                             \n",
              "30950     Apartment Providencia, Santiago   132845    Pamela   \n",
              "49392        Share my Flat in Providencia   224592     Maria   \n",
              "52811  Suite Providencia 1 Santiago Chile   244792  Cristián   \n",
              "53494  depto centro ski el colorado chile   249097   Paulina   \n",
              "55303                   Plaza Lyon piso 3   261079    Hernan   \n",
              "\n",
              "       neighbourhood_group neighbourhood  latitude  longitude  \\\n",
              "id                                                              \n",
              "30950                  NaN   Providencia -33.43174  -70.61845   \n",
              "49392                  NaN   Providencia -33.43266  -70.60072   \n",
              "52811                  NaN   Providencia -33.42959  -70.61880   \n",
              "53494                  NaN  Lo Barnechea -33.34344  -70.29432   \n",
              "55303                  NaN   Providencia -33.42250  -70.60920   \n",
              "\n",
              "             room_type   price  minimum_nights  number_of_reviews last_review  \\\n",
              "id                                                                              \n",
              "30950  Entire home/apt  260000             180                 12  2021-08-30   \n",
              "49392     Private room   45652               3                  0         NaN   \n",
              "52811  Entire home/apt   46513               1                 46  2021-11-04   \n",
              "53494  Entire home/apt  149999               2                 38  2021-05-22   \n",
              "55303  Entire home/apt   70000               2                  2  2016-11-28   \n",
              "\n",
              "       reviews_per_month  calculated_host_listings_count  availability_365  \\\n",
              "id                                                                           \n",
              "30950               0.22                               1               276   \n",
              "49392                NaN                               2               176   \n",
              "52811               0.34                               3                89   \n",
              "53494               0.57                               1               266   \n",
              "55303               0.03                               3               365   \n",
              "\n",
              "       number_of_reviews_ltm license  \n",
              "id                                    \n",
              "30950                      4     NaN  \n",
              "49392                      0     NaN  \n",
              "52811                      1     NaN  \n",
              "53494                      1     NaN  \n",
              "55303                      0     NaN  "
            ],
            "text/html": [
              "\n",
              "  <div id=\"df-13d48752-4907-4fb1-be2e-4f05ff59134b\">\n",
              "    <div class=\"colab-df-container\">\n",
              "      <div>\n",
              "<style scoped>\n",
              "    .dataframe tbody tr th:only-of-type {\n",
              "        vertical-align: middle;\n",
              "    }\n",
              "\n",
              "    .dataframe tbody tr th {\n",
              "        vertical-align: top;\n",
              "    }\n",
              "\n",
              "    .dataframe thead th {\n",
              "        text-align: right;\n",
              "    }\n",
              "</style>\n",
              "<table border=\"1\" class=\"dataframe\">\n",
              "  <thead>\n",
              "    <tr style=\"text-align: right;\">\n",
              "      <th></th>\n",
              "      <th>name</th>\n",
              "      <th>host_id</th>\n",
              "      <th>host_name</th>\n",
              "      <th>neighbourhood_group</th>\n",
              "      <th>neighbourhood</th>\n",
              "      <th>latitude</th>\n",
              "      <th>longitude</th>\n",
              "      <th>room_type</th>\n",
              "      <th>price</th>\n",
              "      <th>minimum_nights</th>\n",
              "      <th>number_of_reviews</th>\n",
              "      <th>last_review</th>\n",
              "      <th>reviews_per_month</th>\n",
              "      <th>calculated_host_listings_count</th>\n",
              "      <th>availability_365</th>\n",
              "      <th>number_of_reviews_ltm</th>\n",
              "      <th>license</th>\n",
              "    </tr>\n",
              "    <tr>\n",
              "      <th>id</th>\n",
              "      <th></th>\n",
              "      <th></th>\n",
              "      <th></th>\n",
              "      <th></th>\n",
              "      <th></th>\n",
              "      <th></th>\n",
              "      <th></th>\n",
              "      <th></th>\n",
              "      <th></th>\n",
              "      <th></th>\n",
              "      <th></th>\n",
              "      <th></th>\n",
              "      <th></th>\n",
              "      <th></th>\n",
              "      <th></th>\n",
              "      <th></th>\n",
              "      <th></th>\n",
              "    </tr>\n",
              "  </thead>\n",
              "  <tbody>\n",
              "    <tr>\n",
              "      <th>30950</th>\n",
              "      <td>Apartment Providencia, Santiago</td>\n",
              "      <td>132845</td>\n",
              "      <td>Pamela</td>\n",
              "      <td>NaN</td>\n",
              "      <td>Providencia</td>\n",
              "      <td>-33.43174</td>\n",
              "      <td>-70.61845</td>\n",
              "      <td>Entire home/apt</td>\n",
              "      <td>260000</td>\n",
              "      <td>180</td>\n",
              "      <td>12</td>\n",
              "      <td>2021-08-30</td>\n",
              "      <td>0.22</td>\n",
              "      <td>1</td>\n",
              "      <td>276</td>\n",
              "      <td>4</td>\n",
              "      <td>NaN</td>\n",
              "    </tr>\n",
              "    <tr>\n",
              "      <th>49392</th>\n",
              "      <td>Share my Flat in Providencia</td>\n",
              "      <td>224592</td>\n",
              "      <td>Maria</td>\n",
              "      <td>NaN</td>\n",
              "      <td>Providencia</td>\n",
              "      <td>-33.43266</td>\n",
              "      <td>-70.60072</td>\n",
              "      <td>Private room</td>\n",
              "      <td>45652</td>\n",
              "      <td>3</td>\n",
              "      <td>0</td>\n",
              "      <td>NaN</td>\n",
              "      <td>NaN</td>\n",
              "      <td>2</td>\n",
              "      <td>176</td>\n",
              "      <td>0</td>\n",
              "      <td>NaN</td>\n",
              "    </tr>\n",
              "    <tr>\n",
              "      <th>52811</th>\n",
              "      <td>Suite Providencia 1 Santiago Chile</td>\n",
              "      <td>244792</td>\n",
              "      <td>Cristián</td>\n",
              "      <td>NaN</td>\n",
              "      <td>Providencia</td>\n",
              "      <td>-33.42959</td>\n",
              "      <td>-70.61880</td>\n",
              "      <td>Entire home/apt</td>\n",
              "      <td>46513</td>\n",
              "      <td>1</td>\n",
              "      <td>46</td>\n",
              "      <td>2021-11-04</td>\n",
              "      <td>0.34</td>\n",
              "      <td>3</td>\n",
              "      <td>89</td>\n",
              "      <td>1</td>\n",
              "      <td>NaN</td>\n",
              "    </tr>\n",
              "    <tr>\n",
              "      <th>53494</th>\n",
              "      <td>depto centro ski el colorado chile</td>\n",
              "      <td>249097</td>\n",
              "      <td>Paulina</td>\n",
              "      <td>NaN</td>\n",
              "      <td>Lo Barnechea</td>\n",
              "      <td>-33.34344</td>\n",
              "      <td>-70.29432</td>\n",
              "      <td>Entire home/apt</td>\n",
              "      <td>149999</td>\n",
              "      <td>2</td>\n",
              "      <td>38</td>\n",
              "      <td>2021-05-22</td>\n",
              "      <td>0.57</td>\n",
              "      <td>1</td>\n",
              "      <td>266</td>\n",
              "      <td>1</td>\n",
              "      <td>NaN</td>\n",
              "    </tr>\n",
              "    <tr>\n",
              "      <th>55303</th>\n",
              "      <td>Plaza Lyon piso 3</td>\n",
              "      <td>261079</td>\n",
              "      <td>Hernan</td>\n",
              "      <td>NaN</td>\n",
              "      <td>Providencia</td>\n",
              "      <td>-33.42250</td>\n",
              "      <td>-70.60920</td>\n",
              "      <td>Entire home/apt</td>\n",
              "      <td>70000</td>\n",
              "      <td>2</td>\n",
              "      <td>2</td>\n",
              "      <td>2016-11-28</td>\n",
              "      <td>0.03</td>\n",
              "      <td>3</td>\n",
              "      <td>365</td>\n",
              "      <td>0</td>\n",
              "      <td>NaN</td>\n",
              "    </tr>\n",
              "  </tbody>\n",
              "</table>\n",
              "</div>\n",
              "      <button class=\"colab-df-convert\" onclick=\"convertToInteractive('df-13d48752-4907-4fb1-be2e-4f05ff59134b')\"\n",
              "              title=\"Convert this dataframe to an interactive table.\"\n",
              "              style=\"display:none;\">\n",
              "        \n",
              "  <svg xmlns=\"http://www.w3.org/2000/svg\" height=\"24px\"viewBox=\"0 0 24 24\"\n",
              "       width=\"24px\">\n",
              "    <path d=\"M0 0h24v24H0V0z\" fill=\"none\"/>\n",
              "    <path d=\"M18.56 5.44l.94 2.06.94-2.06 2.06-.94-2.06-.94-.94-2.06-.94 2.06-2.06.94zm-11 1L8.5 8.5l.94-2.06 2.06-.94-2.06-.94L8.5 2.5l-.94 2.06-2.06.94zm10 10l.94 2.06.94-2.06 2.06-.94-2.06-.94-.94-2.06-.94 2.06-2.06.94z\"/><path d=\"M17.41 7.96l-1.37-1.37c-.4-.4-.92-.59-1.43-.59-.52 0-1.04.2-1.43.59L10.3 9.45l-7.72 7.72c-.78.78-.78 2.05 0 2.83L4 21.41c.39.39.9.59 1.41.59.51 0 1.02-.2 1.41-.59l7.78-7.78 2.81-2.81c.8-.78.8-2.07 0-2.86zM5.41 20L4 18.59l7.72-7.72 1.47 1.35L5.41 20z\"/>\n",
              "  </svg>\n",
              "      </button>\n",
              "      \n",
              "  <style>\n",
              "    .colab-df-container {\n",
              "      display:flex;\n",
              "      flex-wrap:wrap;\n",
              "      gap: 12px;\n",
              "    }\n",
              "\n",
              "    .colab-df-convert {\n",
              "      background-color: #E8F0FE;\n",
              "      border: none;\n",
              "      border-radius: 50%;\n",
              "      cursor: pointer;\n",
              "      display: none;\n",
              "      fill: #1967D2;\n",
              "      height: 32px;\n",
              "      padding: 0 0 0 0;\n",
              "      width: 32px;\n",
              "    }\n",
              "\n",
              "    .colab-df-convert:hover {\n",
              "      background-color: #E2EBFA;\n",
              "      box-shadow: 0px 1px 2px rgba(60, 64, 67, 0.3), 0px 1px 3px 1px rgba(60, 64, 67, 0.15);\n",
              "      fill: #174EA6;\n",
              "    }\n",
              "\n",
              "    [theme=dark] .colab-df-convert {\n",
              "      background-color: #3B4455;\n",
              "      fill: #D2E3FC;\n",
              "    }\n",
              "\n",
              "    [theme=dark] .colab-df-convert:hover {\n",
              "      background-color: #434B5C;\n",
              "      box-shadow: 0px 1px 3px 1px rgba(0, 0, 0, 0.15);\n",
              "      filter: drop-shadow(0px 1px 2px rgba(0, 0, 0, 0.3));\n",
              "      fill: #FFFFFF;\n",
              "    }\n",
              "  </style>\n",
              "\n",
              "      <script>\n",
              "        const buttonEl =\n",
              "          document.querySelector('#df-13d48752-4907-4fb1-be2e-4f05ff59134b button.colab-df-convert');\n",
              "        buttonEl.style.display =\n",
              "          google.colab.kernel.accessAllowed ? 'block' : 'none';\n",
              "\n",
              "        async function convertToInteractive(key) {\n",
              "          const element = document.querySelector('#df-13d48752-4907-4fb1-be2e-4f05ff59134b');\n",
              "          const dataTable =\n",
              "            await google.colab.kernel.invokeFunction('convertToInteractive',\n",
              "                                                     [key], {});\n",
              "          if (!dataTable) return;\n",
              "\n",
              "          const docLinkHtml = 'Like what you see? Visit the ' +\n",
              "            '<a target=\"_blank\" href=https://colab.research.google.com/notebooks/data_table.ipynb>data table notebook</a>'\n",
              "            + ' to learn more about interactive tables.';\n",
              "          element.innerHTML = '';\n",
              "          dataTable['output_type'] = 'display_data';\n",
              "          await google.colab.output.renderOutput(dataTable, element);\n",
              "          const docLink = document.createElement('div');\n",
              "          docLink.innerHTML = docLinkHtml;\n",
              "          element.appendChild(docLink);\n",
              "        }\n",
              "      </script>\n",
              "    </div>\n",
              "  </div>\n",
              "  "
            ]
          },
          "metadata": {},
          "execution_count": 4
        }
      ]
    },
    {
      "cell_type": "markdown",
      "metadata": {
        "id": "6-B_qtEaYEd-"
      },
      "source": [
        "### **Q1. Quantos atributos (variáveis) e quantas entradas o nosso conjunto de dados possui? Quais os tipos das variáveis?**"
      ]
    },
    {
      "cell_type": "markdown",
      "source": [
        "Em um primeiro contato com o DataSet, é muito importante saber quais são as variáveis que possuímos e que tipo de dados cada uma delas nos entregará."
      ],
      "metadata": {
        "id": "IUfbp1aoHuez"
      }
    },
    {
      "cell_type": "code",
      "metadata": {
        "id": "TFRK0tniLV-G",
        "colab": {
          "base_uri": "https://localhost:8080/"
        },
        "outputId": "803a5723-b219-467c-d0af-33cf9eba6c93"
      },
      "source": [
        "# identificar o volume de dados do DataFrame\n",
        "print(\"Entradas:\\t {}\".format(df.shape[0]))\n",
        "print(\"Variáveis:\\t {}\".format(df.shape[1]))\n",
        "# identificando os tipos de variáveis\n",
        "df.dtypes"
      ],
      "execution_count": null,
      "outputs": [
        {
          "output_type": "stream",
          "name": "stdout",
          "text": [
            "Entradas:\t 9139\n",
            "Variáveis:\t 17\n"
          ]
        },
        {
          "output_type": "execute_result",
          "data": {
            "text/plain": [
              "name                               object\n",
              "host_id                             int64\n",
              "host_name                          object\n",
              "neighbourhood_group               float64\n",
              "neighbourhood                      object\n",
              "latitude                          float64\n",
              "longitude                         float64\n",
              "room_type                          object\n",
              "price                               int64\n",
              "minimum_nights                      int64\n",
              "number_of_reviews                   int64\n",
              "last_review                        object\n",
              "reviews_per_month                 float64\n",
              "calculated_host_listings_count      int64\n",
              "availability_365                    int64\n",
              "number_of_reviews_ltm               int64\n",
              "license                            object\n",
              "dtype: object"
            ]
          },
          "metadata": {},
          "execution_count": 5
        }
      ]
    },
    {
      "cell_type": "markdown",
      "metadata": {
        "id": "yz1urSUGW9iE"
      },
      "source": [
        "### **Q2. Qual a porcentagem de valores ausentes no *dataset*?**"
      ]
    },
    {
      "cell_type": "markdown",
      "source": [
        "A qualidade do DataSet depende em grande parte da quantidade de valores válidos presentes nele.\n",
        "Abaixo, podemos ver que a coluna `neighbourhood_group` possui todos os seus valores nulos. A variável `license` também possui grande parte de seus valores nulos."
      ],
      "metadata": {
        "id": "oC1YCw-bHEqz"
      }
    },
    {
      "cell_type": "code",
      "metadata": {
        "id": "plk2FjbCXOqP",
        "colab": {
          "base_uri": "https://localhost:8080/"
        },
        "outputId": "0e119a55-262d-403e-bf1d-582712c2030d"
      },
      "source": [
        "# ordenar em ordem decrescente as variáveis por seus valores ausentes\n",
        "(df.isnull().sum()/df.shape[0]).sort_values(ascending=False)"
      ],
      "execution_count": null,
      "outputs": [
        {
          "output_type": "execute_result",
          "data": {
            "text/plain": [
              "neighbourhood_group               1.000000\n",
              "license                           0.988401\n",
              "last_review                       0.356604\n",
              "reviews_per_month                 0.356604\n",
              "name                              0.000438\n",
              "host_name                         0.000438\n",
              "latitude                          0.000000\n",
              "longitude                         0.000000\n",
              "room_type                         0.000000\n",
              "host_id                           0.000000\n",
              "minimum_nights                    0.000000\n",
              "number_of_reviews                 0.000000\n",
              "neighbourhood                     0.000000\n",
              "calculated_host_listings_count    0.000000\n",
              "availability_365                  0.000000\n",
              "number_of_reviews_ltm             0.000000\n",
              "price                             0.000000\n",
              "dtype: float64"
            ]
          },
          "metadata": {},
          "execution_count": 6
        }
      ]
    },
    {
      "cell_type": "markdown",
      "metadata": {
        "id": "iHXvvHIxaoNc"
      },
      "source": [
        "### **Q3. Qual o tipo de distribuição das variáveis?** \n",
        "\n",
        "Plotaremos os histogramas das variáveis numéricas para fazer uma primeira avaliação sobre a distribuição dos dados."
      ]
    },
    {
      "cell_type": "code",
      "metadata": {
        "id": "q2wWSfeRbmBo",
        "colab": {
          "base_uri": "https://localhost:8080/",
          "height": 607
        },
        "outputId": "a4c823dc-6b84-43a7-8190-c84010d8ea2b"
      },
      "source": [
        "# plotar o histograma das variáveis numéricas\n",
        "df.hist(bins=15, figsize=(15,10));"
      ],
      "execution_count": null,
      "outputs": [
        {
          "output_type": "display_data",
          "data": {
            "text/plain": [
              "<Figure size 1080x720 with 12 Axes>"
            ],
            "image/png": "[encoded data removed]"
          },
          "metadata": {
            "needs_background": "light"
          }
        }
      ]
    },
    {
      "cell_type": "markdown",
      "source": [
        "### **Q4 - Existem *Outliers* na distribuição dos dados?**\n",
        "\n",
        "Analisando os histogramas acima, algumas coisas são perceptíveis:\n",
        "\n",
        "\n",
        "1.   A coluna `neighbourhood_group` não apresenta nenhum valor válido;\n",
        "2.   A coluna `price` apresenta alguns *outliers*, ou seja, valores\n",
        "que estão muito distantes do padrão de distribuição, e que acabam modificando significativamente os resultados da análise;\n",
        "3.   A coluna `minimum nights` apresenta *outliers* também;\n",
        "4.   Outras colunas apresentam valores significativamente distantes da distribuição normal, porém os valores que serão mais profundamente analisados dizem respeito às colunas `price` e `minimum_nights`.\n",
        "\n",
        "Para a localização de *outliers*, 2 ferramentas são comumente utilizadas: o uso do comando `describe()` e o uso de gráficos de distribuição.\n",
        "\n"
      ],
      "metadata": {
        "id": "m05m2UeT6sL8"
      }
    },
    {
      "cell_type": "code",
      "source": [
        "#avaliando as variáveis númericas através da função describe\n",
        "df[['price','minimum_nights','number_of_reviews', 'reviews_per_month',\n",
        "    'calculated_host_listings_count', 'availability_365']].describe()"
      ],
      "metadata": {
        "colab": {
          "base_uri": "https://localhost:8080/",
          "height": 300
        },
        "id": "AzlHKcaq_U_R",
        "outputId": "774e449f-1c8e-47be-86a0-e66d49c22c3c"
      },
      "execution_count": null,
      "outputs": [
        {
          "output_type": "execute_result",
          "data": {
            "text/plain": [
              "              price  minimum_nights  number_of_reviews  reviews_per_month  \\\n",
              "count  9.139000e+03     9139.000000        9139.000000        5880.000000   \n",
              "mean   7.999007e+04        7.251231          17.942554           0.910160   \n",
              "std    8.707143e+05       26.967635          40.411300           1.378244   \n",
              "min    0.000000e+00        1.000000           0.000000           0.010000   \n",
              "25%    2.153400e+04        1.000000           0.000000           0.110000   \n",
              "50%    3.500000e+04        2.000000           2.000000           0.400000   \n",
              "75%    5.400000e+04        3.000000          16.000000           1.150000   \n",
              "max    5.598833e+07      400.000000         638.000000          27.000000   \n",
              "\n",
              "       calculated_host_listings_count  availability_365  \n",
              "count                     9139.000000       9139.000000  \n",
              "mean                         3.025605        248.003830  \n",
              "std                          4.312533        127.789544  \n",
              "min                          1.000000          0.000000  \n",
              "25%                          1.000000        142.000000  \n",
              "50%                          1.000000        319.000000  \n",
              "75%                          3.000000        364.000000  \n",
              "max                         35.000000        365.000000  "
            ],
            "text/html": [
              "\n",
              "  <div id=\"df-551040f4-87f0-4270-ba5c-354ede38772b\">\n",
              "    <div class=\"colab-df-container\">\n",
              "      <div>\n",
              "<style scoped>\n",
              "    .dataframe tbody tr th:only-of-type {\n",
              "        vertical-align: middle;\n",
              "    }\n",
              "\n",
              "    .dataframe tbody tr th {\n",
              "        vertical-align: top;\n",
              "    }\n",
              "\n",
              "    .dataframe thead th {\n",
              "        text-align: right;\n",
              "    }\n",
              "</style>\n",
              "<table border=\"1\" class=\"dataframe\">\n",
              "  <thead>\n",
              "    <tr style=\"text-align: right;\">\n",
              "      <th></th>\n",
              "      <th>price</th>\n",
              "      <th>minimum_nights</th>\n",
              "      <th>number_of_reviews</th>\n",
              "      <th>reviews_per_month</th>\n",
              "      <th>calculated_host_listings_count</th>\n",
              "      <th>availability_365</th>\n",
              "    </tr>\n",
              "  </thead>\n",
              "  <tbody>\n",
              "    <tr>\n",
              "      <th>count</th>\n",
              "      <td>9.139000e+03</td>\n",
              "      <td>9139.000000</td>\n",
              "      <td>9139.000000</td>\n",
              "      <td>5880.000000</td>\n",
              "      <td>9139.000000</td>\n",
              "      <td>9139.000000</td>\n",
              "    </tr>\n",
              "    <tr>\n",
              "      <th>mean</th>\n",
              "      <td>7.999007e+04</td>\n",
              "      <td>7.251231</td>\n",
              "      <td>17.942554</td>\n",
              "      <td>0.910160</td>\n",
              "      <td>3.025605</td>\n",
              "      <td>248.003830</td>\n",
              "    </tr>\n",
              "    <tr>\n",
              "      <th>std</th>\n",
              "      <td>8.707143e+05</td>\n",
              "      <td>26.967635</td>\n",
              "      <td>40.411300</td>\n",
              "      <td>1.378244</td>\n",
              "      <td>4.312533</td>\n",
              "      <td>127.789544</td>\n",
              "    </tr>\n",
              "    <tr>\n",
              "      <th>min</th>\n",
              "      <td>0.000000e+00</td>\n",
              "      <td>1.000000</td>\n",
              "      <td>0.000000</td>\n",
              "      <td>0.010000</td>\n",
              "      <td>1.000000</td>\n",
              "      <td>0.000000</td>\n",
              "    </tr>\n",
              "    <tr>\n",
              "      <th>25%</th>\n",
              "      <td>2.153400e+04</td>\n",
              "      <td>1.000000</td>\n",
              "      <td>0.000000</td>\n",
              "      <td>0.110000</td>\n",
              "      <td>1.000000</td>\n",
              "      <td>142.000000</td>\n",
              "    </tr>\n",
              "    <tr>\n",
              "      <th>50%</th>\n",
              "      <td>3.500000e+04</td>\n",
              "      <td>2.000000</td>\n",
              "      <td>2.000000</td>\n",
              "      <td>0.400000</td>\n",
              "      <td>1.000000</td>\n",
              "      <td>319.000000</td>\n",
              "    </tr>\n",
              "    <tr>\n",
              "      <th>75%</th>\n",
              "      <td>5.400000e+04</td>\n",
              "      <td>3.000000</td>\n",
              "      <td>16.000000</td>\n",
              "      <td>1.150000</td>\n",
              "      <td>3.000000</td>\n",
              "      <td>364.000000</td>\n",
              "    </tr>\n",
              "    <tr>\n",
              "      <th>max</th>\n",
              "      <td>5.598833e+07</td>\n",
              "      <td>400.000000</td>\n",
              "      <td>638.000000</td>\n",
              "      <td>27.000000</td>\n",
              "      <td>35.000000</td>\n",
              "      <td>365.000000</td>\n",
              "    </tr>\n",
              "  </tbody>\n",
              "</table>\n",
              "</div>\n",
              "      <button class=\"colab-df-convert\" onclick=\"convertToInteractive('df-551040f4-87f0-4270-ba5c-354ede38772b')\"\n",
              "              title=\"Convert this dataframe to an interactive table.\"\n",
              "              style=\"display:none;\">\n",
              "        \n",
              "  <svg xmlns=\"http://www.w3.org/2000/svg\" height=\"24px\"viewBox=\"0 0 24 24\"\n",
              "       width=\"24px\">\n",
              "    <path d=\"M0 0h24v24H0V0z\" fill=\"none\"/>\n",
              "    <path d=\"M18.56 5.44l.94 2.06.94-2.06 2.06-.94-2.06-.94-.94-2.06-.94 2.06-2.06.94zm-11 1L8.5 8.5l.94-2.06 2.06-.94-2.06-.94L8.5 2.5l-.94 2.06-2.06.94zm10 10l.94 2.06.94-2.06 2.06-.94-2.06-.94-.94-2.06-.94 2.06-2.06.94z\"/><path d=\"M17.41 7.96l-1.37-1.37c-.4-.4-.92-.59-1.43-.59-.52 0-1.04.2-1.43.59L10.3 9.45l-7.72 7.72c-.78.78-.78 2.05 0 2.83L4 21.41c.39.39.9.59 1.41.59.51 0 1.02-.2 1.41-.59l7.78-7.78 2.81-2.81c.8-.78.8-2.07 0-2.86zM5.41 20L4 18.59l7.72-7.72 1.47 1.35L5.41 20z\"/>\n",
              "  </svg>\n",
              "      </button>\n",
              "      \n",
              "  <style>\n",
              "    .colab-df-container {\n",
              "      display:flex;\n",
              "      flex-wrap:wrap;\n",
              "      gap: 12px;\n",
              "    }\n",
              "\n",
              "    .colab-df-convert {\n",
              "      background-color: #E8F0FE;\n",
              "      border: none;\n",
              "      border-radius: 50%;\n",
              "      cursor: pointer;\n",
              "      display: none;\n",
              "      fill: #1967D2;\n",
              "      height: 32px;\n",
              "      padding: 0 0 0 0;\n",
              "      width: 32px;\n",
              "    }\n",
              "\n",
              "    .colab-df-convert:hover {\n",
              "      background-color: #E2EBFA;\n",
              "      box-shadow: 0px 1px 2px rgba(60, 64, 67, 0.3), 0px 1px 3px 1px rgba(60, 64, 67, 0.15);\n",
              "      fill: #174EA6;\n",
              "    }\n",
              "\n",
              "    [theme=dark] .colab-df-convert {\n",
              "      background-color: #3B4455;\n",
              "      fill: #D2E3FC;\n",
              "    }\n",
              "\n",
              "    [theme=dark] .colab-df-convert:hover {\n",
              "      background-color: #434B5C;\n",
              "      box-shadow: 0px 1px 3px 1px rgba(0, 0, 0, 0.15);\n",
              "      filter: drop-shadow(0px 1px 2px rgba(0, 0, 0, 0.3));\n",
              "      fill: #FFFFFF;\n",
              "    }\n",
              "  </style>\n",
              "\n",
              "      <script>\n",
              "        const buttonEl =\n",
              "          document.querySelector('#df-551040f4-87f0-4270-ba5c-354ede38772b button.colab-df-convert');\n",
              "        buttonEl.style.display =\n",
              "          google.colab.kernel.accessAllowed ? 'block' : 'none';\n",
              "\n",
              "        async function convertToInteractive(key) {\n",
              "          const element = document.querySelector('#df-551040f4-87f0-4270-ba5c-354ede38772b');\n",
              "          const dataTable =\n",
              "            await google.colab.kernel.invokeFunction('convertToInteractive',\n",
              "                                                     [key], {});\n",
              "          if (!dataTable) return;\n",
              "\n",
              "          const docLinkHtml = 'Like what you see? Visit the ' +\n",
              "            '<a target=\"_blank\" href=https://colab.research.google.com/notebooks/data_table.ipynb>data table notebook</a>'\n",
              "            + ' to learn more about interactive tables.';\n",
              "          element.innerHTML = '';\n",
              "          dataTable['output_type'] = 'display_data';\n",
              "          await google.colab.output.renderOutput(dataTable, element);\n",
              "          const docLink = document.createElement('div');\n",
              "          docLink.innerHTML = docLinkHtml;\n",
              "          element.appendChild(docLink);\n",
              "        }\n",
              "      </script>\n",
              "    </div>\n",
              "  </div>\n",
              "  "
            ]
          },
          "metadata": {},
          "execution_count": 8
        }
      ]
    },
    {
      "cell_type": "markdown",
      "source": [
        "A tabela acima mostra alguns pontos interessantes:\n",
        "\n",
        "1.   Apesar de 75% dos preços estarem abaixo de 54000 pesos chilenos, o maior valor\n",
        "da coluna é de 55988330.\n",
        "2.   O valor máximo de noites mínimas é maior do que o disponível em um ano;\n",
        "\n",
        "Na sequência, analisaremos graficamente a presença destes *outliers*:"
      ],
      "metadata": {
        "id": "YYDtnA54AW4T"
      }
    },
    {
      "cell_type": "code",
      "source": [
        "# minimum_nights\n",
        "df.minimum_nights.plot(kind='box', vert=False, figsize=(15, 3))\n",
        "plt.show()\n",
        "\n",
        "# ver quantidade de valores acima de 30 dias para minimum_nights\n",
        "print(\"minimum_nights: valores acima de 30:\")\n",
        "print(\"{} entradas\".format(len(df[df.minimum_nights > 30])))\n",
        "print(\"{:.4f}%\".format((len(df[df.minimum_nights > 30]) / df.shape[0])*100))"
      ],
      "metadata": {
        "colab": {
          "base_uri": "https://localhost:8080/",
          "height": 265
        },
        "id": "gDjAAXPw36jB",
        "outputId": "e087bdcd-59ca-4acd-c70c-98ee116acd48"
      },
      "execution_count": null,
      "outputs": [
        {
          "output_type": "display_data",
          "data": {
            "text/plain": [
              "<Figure size 1080x216 with 1 Axes>"
            ],
            "image/png": "[encoded data removed]"
          },
          "metadata": {
            "needs_background": "light"
          }
        },
        {
          "output_type": "stream",
          "name": "stdout",
          "text": [
            "minimum_nights: valores acima de 30:\n",
            "247 entradas\n",
            "2.7027%\n"
          ]
        }
      ]
    },
    {
      "cell_type": "code",
      "source": [
        "# price\n",
        "df.price.plot(kind='box', vert=False, figsize=(15, 3))\n",
        "plt.show()\n",
        "\n",
        "# ver quantidade de valores acima de 30 dias para minimum_nights\n",
        "print(\"preço: valores acima de 1000000 de pesos chilenos:\")\n",
        "print(\"{} entradas\".format(len(df[df.price > 100000])))\n",
        "print(\"{:.4f}%\".format((len(df[df.price > 1000000]) / df.shape[0])*100))"
      ],
      "metadata": {
        "colab": {
          "base_uri": "https://localhost:8080/",
          "height": 278
        },
        "id": "0KN8CGUQ4YlC",
        "outputId": "29ae3526-5597-4f60-8534-9e70d84b42a0"
      },
      "execution_count": null,
      "outputs": [
        {
          "output_type": "display_data",
          "data": {
            "text/plain": [
              "<Figure size 1080x216 with 1 Axes>"
            ],
            "image/png": "[encoded data removed]"
          },
          "metadata": {
            "needs_background": "light"
          }
        },
        {
          "output_type": "stream",
          "name": "stdout",
          "text": [
            "preço: valores acima de 1000000 de pesos chilenos:\n",
            "890 entradas\n",
            "0.2845%\n"
          ]
        }
      ]
    },
    {
      "cell_type": "markdown",
      "source": [
        "### **Q5 - Removendo os *Outliers***\n",
        "\n",
        "Após identificar a presença de *outliers* no Dataframe atual, é hora de removê-los e gerar os gráficos novamente."
      ],
      "metadata": {
        "id": "1gUsWrVM-B3b"
      }
    },
    {
      "cell_type": "code",
      "source": [
        "#remover a coluna neighbourhood_group\n",
        "df_clean = df.copy()\n",
        "df_clean.drop('neighbourhood_group',axis=1, inplace=True)\n",
        "#remover a coluna license\n",
        "df_clean.drop('license', axis=1, inplace=True)\n",
        "#Removendo preços acima de 100000 de pesos\n",
        "df_clean.drop(df_clean[df_clean.price> 100000 ].index, axis=0, inplace=True)\n",
        "#Removendo valores de noites mínimas acima de 30 dias\n",
        "df_clean.drop(df_clean[df_clean.minimum_nights>30].index, axis=0, inplace=True)\n",
        "\n",
        "#plotando novamente as variáveis\n",
        "df_clean.hist(bins=15, figsize=(10,15));"
      ],
      "metadata": {
        "colab": {
          "base_uri": "https://localhost:8080/",
          "height": 879
        },
        "id": "ro1_VHMY1hBz",
        "outputId": "cb991d5b-0e55-44e7-d064-b2a43e51efa9"
      },
      "execution_count": null,
      "outputs": [
        {
          "output_type": "display_data",
          "data": {
            "text/plain": [
              "<Figure size 720x1080 with 12 Axes>"
            ],
            "image/png": "[encoded data removed]"
          },
          "metadata": {
            "needs_background": "light"
          }
        }
      ]
    },
    {
      "cell_type": "markdown",
      "metadata": {
        "id": "7x4aw1j5wNmn"
      },
      "source": [
        "### **Q6. Qual a média dos preços de aluguel?**\n",
        "\n",
        "Com os *outliers* removidos, podemos obter valores mais acurados dos preço médio de aluguéis na cidade de Santiago, no Chile, em pesos chilenos."
      ]
    },
    {
      "cell_type": "code",
      "metadata": {
        "id": "ff-8gUahLk-C",
        "colab": {
          "base_uri": "https://localhost:8080/"
        },
        "outputId": "70585b28-37d1-45cc-b57d-42dc2d3a9a0e"
      },
      "source": [
        "# ver a média da coluna \"price\"\n",
        "df_clean.price.mean()"
      ],
      "execution_count": null,
      "outputs": [
        {
          "output_type": "execute_result",
          "data": {
            "text/plain": [
              "35934.37862386463"
            ]
          },
          "metadata": {},
          "execution_count": 32
        }
      ]
    },
    {
      "cell_type": "markdown",
      "metadata": {
        "id": "IXn2oIo5qx-w"
      },
      "source": [
        "### **Q7. Qual a correlação existente entre as variáveis**\n",
        "\n",
        "Correlação significa que existe uma relação entre duas coisas. No nosso contexto, estamos buscando relação ou semelhança entre duas variáveis.\n",
        "\n",
        "Essa relação pode ser medida em função do coeficiente de correlação, que estabelece qual a intensidade da ligação entre as variáveis. Para identificar as correlações existentes entre as variáveis de interesse, vou:\n",
        "\n",
        "Criar uma matriz de correlação\n",
        "Gerar um heatmap a partir dessa matriz, usando a biblioteca seaborn"
      ]
    },
    {
      "cell_type": "code",
      "metadata": {
        "id": "x2ayzBajqxyd",
        "colab": {
          "base_uri": "https://localhost:8080/",
          "height": 281
        },
        "outputId": "10b55511-4507-46a9-e381-82b8e9d572c9"
      },
      "source": [
        "# criar uma matriz de correlação\n",
        "corr = df_clean[['price', 'minimum_nights', 'number_of_reviews', 'reviews_per_month',\n",
        "    'calculated_host_listings_count', 'availability_365']].corr()\n",
        "\n",
        "# mostrar a matriz de correlação\n",
        "display(corr)"
      ],
      "execution_count": null,
      "outputs": [
        {
          "output_type": "display_data",
          "data": {
            "text/plain": [
              "                                   price  minimum_nights  number_of_reviews  \\\n",
              "price                           1.000000       -0.058128           0.031011   \n",
              "minimum_nights                 -0.058128        1.000000           0.002993   \n",
              "number_of_reviews               0.031011        0.002993           1.000000   \n",
              "reviews_per_month               0.066718       -0.099584           0.632130   \n",
              "calculated_host_listings_count  0.131070       -0.059549           0.081752   \n",
              "availability_365                0.062240       -0.071366          -0.063043   \n",
              "\n",
              "                                reviews_per_month  \\\n",
              "price                                    0.066718   \n",
              "minimum_nights                          -0.099584   \n",
              "number_of_reviews                        0.632130   \n",
              "reviews_per_month                        1.000000   \n",
              "calculated_host_listings_count           0.139345   \n",
              "availability_365                         0.061313   \n",
              "\n",
              "                                calculated_host_listings_count  \\\n",
              "price                                                 0.131070   \n",
              "minimum_nights                                       -0.059549   \n",
              "number_of_reviews                                     0.081752   \n",
              "reviews_per_month                                     0.139345   \n",
              "calculated_host_listings_count                        1.000000   \n",
              "availability_365                                      0.087164   \n",
              "\n",
              "                                availability_365  \n",
              "price                                   0.062240  \n",
              "minimum_nights                         -0.071366  \n",
              "number_of_reviews                      -0.063043  \n",
              "reviews_per_month                       0.061313  \n",
              "calculated_host_listings_count          0.087164  \n",
              "availability_365                        1.000000  "
            ],
            "text/html": [
              "\n",
              "  <div id=\"df-fa6bc06b-e6fd-417f-9b3d-afe7fa41adae\">\n",
              "    <div class=\"colab-df-container\">\n",
              "      <div>\n",
              "<style scoped>\n",
              "    .dataframe tbody tr th:only-of-type {\n",
              "        vertical-align: middle;\n",
              "    }\n",
              "\n",
              "    .dataframe tbody tr th {\n",
              "        vertical-align: top;\n",
              "    }\n",
              "\n",
              "    .dataframe thead th {\n",
              "        text-align: right;\n",
              "    }\n",
              "</style>\n",
              "<table border=\"1\" class=\"dataframe\">\n",
              "  <thead>\n",
              "    <tr style=\"text-align: right;\">\n",
              "      <th></th>\n",
              "      <th>price</th>\n",
              "      <th>minimum_nights</th>\n",
              "      <th>number_of_reviews</th>\n",
              "      <th>reviews_per_month</th>\n",
              "      <th>calculated_host_listings_count</th>\n",
              "      <th>availability_365</th>\n",
              "    </tr>\n",
              "  </thead>\n",
              "  <tbody>\n",
              "    <tr>\n",
              "      <th>price</th>\n",
              "      <td>1.000000</td>\n",
              "      <td>-0.058128</td>\n",
              "      <td>0.031011</td>\n",
              "      <td>0.066718</td>\n",
              "      <td>0.131070</td>\n",
              "      <td>0.062240</td>\n",
              "    </tr>\n",
              "    <tr>\n",
              "      <th>minimum_nights</th>\n",
              "      <td>-0.058128</td>\n",
              "      <td>1.000000</td>\n",
              "      <td>0.002993</td>\n",
              "      <td>-0.099584</td>\n",
              "      <td>-0.059549</td>\n",
              "      <td>-0.071366</td>\n",
              "    </tr>\n",
              "    <tr>\n",
              "      <th>number_of_reviews</th>\n",
              "      <td>0.031011</td>\n",
              "      <td>0.002993</td>\n",
              "      <td>1.000000</td>\n",
              "      <td>0.632130</td>\n",
              "      <td>0.081752</td>\n",
              "      <td>-0.063043</td>\n",
              "    </tr>\n",
              "    <tr>\n",
              "      <th>reviews_per_month</th>\n",
              "      <td>0.066718</td>\n",
              "      <td>-0.099584</td>\n",
              "      <td>0.632130</td>\n",
              "      <td>1.000000</td>\n",
              "      <td>0.139345</td>\n",
              "      <td>0.061313</td>\n",
              "    </tr>\n",
              "    <tr>\n",
              "      <th>calculated_host_listings_count</th>\n",
              "      <td>0.131070</td>\n",
              "      <td>-0.059549</td>\n",
              "      <td>0.081752</td>\n",
              "      <td>0.139345</td>\n",
              "      <td>1.000000</td>\n",
              "      <td>0.087164</td>\n",
              "    </tr>\n",
              "    <tr>\n",
              "      <th>availability_365</th>\n",
              "      <td>0.062240</td>\n",
              "      <td>-0.071366</td>\n",
              "      <td>-0.063043</td>\n",
              "      <td>0.061313</td>\n",
              "      <td>0.087164</td>\n",
              "      <td>1.000000</td>\n",
              "    </tr>\n",
              "  </tbody>\n",
              "</table>\n",
              "</div>\n",
              "      <button class=\"colab-df-convert\" onclick=\"convertToInteractive('df-fa6bc06b-e6fd-417f-9b3d-afe7fa41adae')\"\n",
              "              title=\"Convert this dataframe to an interactive table.\"\n",
              "              style=\"display:none;\">\n",
              "        \n",
              "  <svg xmlns=\"http://www.w3.org/2000/svg\" height=\"24px\"viewBox=\"0 0 24 24\"\n",
              "       width=\"24px\">\n",
              "    <path d=\"M0 0h24v24H0V0z\" fill=\"none\"/>\n",
              "    <path d=\"M18.56 5.44l.94 2.06.94-2.06 2.06-.94-2.06-.94-.94-2.06-.94 2.06-2.06.94zm-11 1L8.5 8.5l.94-2.06 2.06-.94-2.06-.94L8.5 2.5l-.94 2.06-2.06.94zm10 10l.94 2.06.94-2.06 2.06-.94-2.06-.94-.94-2.06-.94 2.06-2.06.94z\"/><path d=\"M17.41 7.96l-1.37-1.37c-.4-.4-.92-.59-1.43-.59-.52 0-1.04.2-1.43.59L10.3 9.45l-7.72 7.72c-.78.78-.78 2.05 0 2.83L4 21.41c.39.39.9.59 1.41.59.51 0 1.02-.2 1.41-.59l7.78-7.78 2.81-2.81c.8-.78.8-2.07 0-2.86zM5.41 20L4 18.59l7.72-7.72 1.47 1.35L5.41 20z\"/>\n",
              "  </svg>\n",
              "      </button>\n",
              "      \n",
              "  <style>\n",
              "    .colab-df-container {\n",
              "      display:flex;\n",
              "      flex-wrap:wrap;\n",
              "      gap: 12px;\n",
              "    }\n",
              "\n",
              "    .colab-df-convert {\n",
              "      background-color: #E8F0FE;\n",
              "      border: none;\n",
              "      border-radius: 50%;\n",
              "      cursor: pointer;\n",
              "      display: none;\n",
              "      fill: #1967D2;\n",
              "      height: 32px;\n",
              "      padding: 0 0 0 0;\n",
              "      width: 32px;\n",
              "    }\n",
              "\n",
              "    .colab-df-convert:hover {\n",
              "      background-color: #E2EBFA;\n",
              "      box-shadow: 0px 1px 2px rgba(60, 64, 67, 0.3), 0px 1px 3px 1px rgba(60, 64, 67, 0.15);\n",
              "      fill: #174EA6;\n",
              "    }\n",
              "\n",
              "    [theme=dark] .colab-df-convert {\n",
              "      background-color: #3B4455;\n",
              "      fill: #D2E3FC;\n",
              "    }\n",
              "\n",
              "    [theme=dark] .colab-df-convert:hover {\n",
              "      background-color: #434B5C;\n",
              "      box-shadow: 0px 1px 3px 1px rgba(0, 0, 0, 0.15);\n",
              "      filter: drop-shadow(0px 1px 2px rgba(0, 0, 0, 0.3));\n",
              "      fill: #FFFFFF;\n",
              "    }\n",
              "  </style>\n",
              "\n",
              "      <script>\n",
              "        const buttonEl =\n",
              "          document.querySelector('#df-fa6bc06b-e6fd-417f-9b3d-afe7fa41adae button.colab-df-convert');\n",
              "        buttonEl.style.display =\n",
              "          google.colab.kernel.accessAllowed ? 'block' : 'none';\n",
              "\n",
              "        async function convertToInteractive(key) {\n",
              "          const element = document.querySelector('#df-fa6bc06b-e6fd-417f-9b3d-afe7fa41adae');\n",
              "          const dataTable =\n",
              "            await google.colab.kernel.invokeFunction('convertToInteractive',\n",
              "                                                     [key], {});\n",
              "          if (!dataTable) return;\n",
              "\n",
              "          const docLinkHtml = 'Like what you see? Visit the ' +\n",
              "            '<a target=\"_blank\" href=https://colab.research.google.com/notebooks/data_table.ipynb>data table notebook</a>'\n",
              "            + ' to learn more about interactive tables.';\n",
              "          element.innerHTML = '';\n",
              "          dataTable['output_type'] = 'display_data';\n",
              "          await google.colab.output.renderOutput(dataTable, element);\n",
              "          const docLink = document.createElement('div');\n",
              "          docLink.innerHTML = docLinkHtml;\n",
              "          element.appendChild(docLink);\n",
              "        }\n",
              "      </script>\n",
              "    </div>\n",
              "  </div>\n",
              "  "
            ]
          },
          "metadata": {}
        }
      ]
    },
    {
      "cell_type": "code",
      "metadata": {
        "id": "91UujDr6ueqE",
        "colab": {
          "base_uri": "https://localhost:8080/",
          "height": 411
        },
        "outputId": "0c160c6c-c45f-4d25-d334-39abd2e0a930"
      },
      "source": [
        "# plotar um heatmap a partir das correlações\n",
        "sns.heatmap(corr, cmap='RdBu', fmt='.2f', square=True, linecolor='white', annot=True);"
      ],
      "execution_count": null,
      "outputs": [
        {
          "output_type": "display_data",
          "data": {
            "text/plain": [
              "<Figure size 432x288 with 2 Axes>"
            ],
            "image/png": "[encoded data removed]"
          },
          "metadata": {
            "needs_background": "light"
          }
        }
      ]
    },
    {
      "cell_type": "markdown",
      "metadata": {
        "id": "7b6RMWpuHKN-"
      },
      "source": [
        "### **Q8. Qual o tipo de imóvel mais alugado no Airbnb?**\n",
        "\n",
        "A coluna da variável `room_type` indica o tipo de locação que está anunciada no Airbnb. Se você já alugou no site, sabe que existem opções de apartamentos/casas inteiras, apenas o aluguel de um quarto ou mesmo dividir o quarto com outras pessoas.\n",
        "\n",
        "Vamos contar a quantidade de ocorrências de cada tipo de aluguel, usando o método `value_counts()`."
      ]
    },
    {
      "cell_type": "code",
      "metadata": {
        "id": "ueLPNWvPHgfB",
        "colab": {
          "base_uri": "https://localhost:8080/"
        },
        "outputId": "ba0033ff-8505-460b-ee8a-e6d5e2c7199e"
      },
      "source": [
        "# mostrar a quantidade de cada tipo de imóvel disponível\n",
        "df_clean.room_type.value_counts()"
      ],
      "execution_count": null,
      "outputs": [
        {
          "output_type": "execute_result",
          "data": {
            "text/plain": [
              "Entire home/apt    4402\n",
              "Private room       3370\n",
              "Shared room         185\n",
              "Hotel room           80\n",
              "Name: room_type, dtype: int64"
            ]
          },
          "metadata": {},
          "execution_count": 36
        }
      ]
    },
    {
      "cell_type": "code",
      "metadata": {
        "id": "EvwoO-XAHhIm",
        "colab": {
          "base_uri": "https://localhost:8080/"
        },
        "outputId": "2e9dda9b-953a-4e11-b655-8973527ba1b2"
      },
      "source": [
        "# mostrar a porcentagem de cada tipo de imóvel disponível\n",
        "(df_clean.room_type.value_counts()/df.shape[0])*100"
      ],
      "execution_count": null,
      "outputs": [
        {
          "output_type": "execute_result",
          "data": {
            "text/plain": [
              "Entire home/apt    48.167196\n",
              "Private room       36.874932\n",
              "Shared room         2.024291\n",
              "Hotel room          0.875369\n",
              "Name: room_type, dtype: float64"
            ]
          },
          "metadata": {},
          "execution_count": 54
        }
      ]
    },
    {
      "cell_type": "markdown",
      "metadata": {
        "id": "MFa5NbnLJMcd"
      },
      "source": [
        "### **Q9. Qual a localidade mais cara do dataset?**\n",
        "\n",
        "Uma maneira de se verificar uma variável em função da outra é usando `groupby()`. No caso, queremos comparar os bairros (neighbourhoods) a partir do preço de locação.\n"
      ]
    },
    {
      "cell_type": "code",
      "metadata": {
        "id": "MD_xa143JZpi",
        "colab": {
          "base_uri": "https://localhost:8080/"
        },
        "outputId": "879c6bec-9bbc-4ac9-c301-91fffa907fb5"
      },
      "source": [
        "# ver preços por bairros, na média\n",
        "df_clean.groupby(['neighbourhood']).price.mean().sort_values(ascending=False)"
      ],
      "execution_count": null,
      "outputs": [
        {
          "output_type": "execute_result",
          "data": {
            "text/plain": [
              "neighbourhood\n",
              "Lo Espejo              97540.000000\n",
              "Lo Barnechea           56086.785714\n",
              "Las Condes             45395.518987\n",
              "Vitacura               45228.170213\n",
              "Cerro Navia            40849.571429\n",
              "Pudahuel               39942.078431\n",
              "Providencia            39699.185139\n",
              "Huechuraba             35101.358974\n",
              "Peñalolén              33432.766667\n",
              "Santiago               33348.673149\n",
              "Recoleta               33324.339713\n",
              "Renca                  31613.454545\n",
              "Estación Central       31412.289062\n",
              "La Florida             31225.616071\n",
              "Quilicura              30458.944444\n",
              "San Miguel             28479.860656\n",
              "Ñuñoa                  27911.261128\n",
              "Maipú                  27289.557143\n",
              "Macul                  24534.018692\n",
              "San Joaquín            23832.800000\n",
              "La Cisterna            23259.968750\n",
              "La Reina               23252.569106\n",
              "Cerrillos              22910.857143\n",
              "Independencia          22746.236364\n",
              "Conchalí               22383.875000\n",
              "Quinta Normal          21917.075000\n",
              "El Bosque              20131.800000\n",
              "La Granja              20123.200000\n",
              "Lo Prado               19093.714286\n",
              "Pedro Aguirre Cerda    18144.400000\n",
              "Name: price, dtype: float64"
            ]
          },
          "metadata": {},
          "execution_count": 38
        }
      ]
    },
    {
      "cell_type": "markdown",
      "source": [
        "Olhando os valores acima, percebemos que o bairro Lo Espejo é disparadamente mais caro do que os demais. Abaixo, veremos se este valor é representativo ou não, ao listar todos os imóveis localizados nele:"
      ],
      "metadata": {
        "id": "r2LpJipgEVIE"
      }
    },
    {
      "cell_type": "code",
      "source": [
        "df_clean.loc[df_clean.neighbourhood == \"Lo Espejo\"]"
      ],
      "metadata": {
        "colab": {
          "base_uri": "https://localhost:8080/",
          "height": 245
        },
        "id": "vcDIS2cdEmnK",
        "outputId": "623e9750-c396-4a40-9d8f-b79bd641b74e"
      },
      "execution_count": null,
      "outputs": [
        {
          "output_type": "execute_result",
          "data": {
            "text/plain": [
              "                                        name   host_id host_name  \\\n",
              "id                                                                 \n",
              "6386713  viaja a la copa america con comodid  33289113    Angela   \n",
              "\n",
              "        neighbourhood  latitude  longitude     room_type  price  \\\n",
              "id                                                                \n",
              "6386713     Lo Espejo -33.51676  -70.67502  Private room  97540   \n",
              "\n",
              "         minimum_nights  number_of_reviews last_review  reviews_per_month  \\\n",
              "id                                                                          \n",
              "6386713               1                  0         NaN                NaN   \n",
              "\n",
              "         calculated_host_listings_count  availability_365  \\\n",
              "id                                                          \n",
              "6386713                               1               365   \n",
              "\n",
              "         number_of_reviews_ltm license  \n",
              "id                                      \n",
              "6386713                      0     NaN  "
            ],
            "text/html": [
              "\n",
              "  <div id=\"df-4f82a004-523a-41e5-b331-0dc5fe772b92\">\n",
              "    <div class=\"colab-df-container\">\n",
              "      <div>\n",
              "<style scoped>\n",
              "    .dataframe tbody tr th:only-of-type {\n",
              "        vertical-align: middle;\n",
              "    }\n",
              "\n",
              "    .dataframe tbody tr th {\n",
              "        vertical-align: top;\n",
              "    }\n",
              "\n",
              "    .dataframe thead th {\n",
              "        text-align: right;\n",
              "    }\n",
              "</style>\n",
              "<table border=\"1\" class=\"dataframe\">\n",
              "  <thead>\n",
              "    <tr style=\"text-align: right;\">\n",
              "      <th></th>\n",
              "      <th>name</th>\n",
              "      <th>host_id</th>\n",
              "      <th>host_name</th>\n",
              "      <th>neighbourhood</th>\n",
              "      <th>latitude</th>\n",
              "      <th>longitude</th>\n",
              "      <th>room_type</th>\n",
              "      <th>price</th>\n",
              "      <th>minimum_nights</th>\n",
              "      <th>number_of_reviews</th>\n",
              "      <th>last_review</th>\n",
              "      <th>reviews_per_month</th>\n",
              "      <th>calculated_host_listings_count</th>\n",
              "      <th>availability_365</th>\n",
              "      <th>number_of_reviews_ltm</th>\n",
              "      <th>license</th>\n",
              "    </tr>\n",
              "    <tr>\n",
              "      <th>id</th>\n",
              "      <th></th>\n",
              "      <th></th>\n",
              "      <th></th>\n",
              "      <th></th>\n",
              "      <th></th>\n",
              "      <th></th>\n",
              "      <th></th>\n",
              "      <th></th>\n",
              "      <th></th>\n",
              "      <th></th>\n",
              "      <th></th>\n",
              "      <th></th>\n",
              "      <th></th>\n",
              "      <th></th>\n",
              "      <th></th>\n",
              "      <th></th>\n",
              "    </tr>\n",
              "  </thead>\n",
              "  <tbody>\n",
              "    <tr>\n",
              "      <th>6386713</th>\n",
              "      <td>viaja a la copa america con comodid</td>\n",
              "      <td>33289113</td>\n",
              "      <td>Angela</td>\n",
              "      <td>Lo Espejo</td>\n",
              "      <td>-33.51676</td>\n",
              "      <td>-70.67502</td>\n",
              "      <td>Private room</td>\n",
              "      <td>97540</td>\n",
              "      <td>1</td>\n",
              "      <td>0</td>\n",
              "      <td>NaN</td>\n",
              "      <td>NaN</td>\n",
              "      <td>1</td>\n",
              "      <td>365</td>\n",
              "      <td>0</td>\n",
              "      <td>NaN</td>\n",
              "    </tr>\n",
              "  </tbody>\n",
              "</table>\n",
              "</div>\n",
              "      <button class=\"colab-df-convert\" onclick=\"convertToInteractive('df-4f82a004-523a-41e5-b331-0dc5fe772b92')\"\n",
              "              title=\"Convert this dataframe to an interactive table.\"\n",
              "              style=\"display:none;\">\n",
              "        \n",
              "  <svg xmlns=\"http://www.w3.org/2000/svg\" height=\"24px\"viewBox=\"0 0 24 24\"\n",
              "       width=\"24px\">\n",
              "    <path d=\"M0 0h24v24H0V0z\" fill=\"none\"/>\n",
              "    <path d=\"M18.56 5.44l.94 2.06.94-2.06 2.06-.94-2.06-.94-.94-2.06-.94 2.06-2.06.94zm-11 1L8.5 8.5l.94-2.06 2.06-.94-2.06-.94L8.5 2.5l-.94 2.06-2.06.94zm10 10l.94 2.06.94-2.06 2.06-.94-2.06-.94-.94-2.06-.94 2.06-2.06.94z\"/><path d=\"M17.41 7.96l-1.37-1.37c-.4-.4-.92-.59-1.43-.59-.52 0-1.04.2-1.43.59L10.3 9.45l-7.72 7.72c-.78.78-.78 2.05 0 2.83L4 21.41c.39.39.9.59 1.41.59.51 0 1.02-.2 1.41-.59l7.78-7.78 2.81-2.81c.8-.78.8-2.07 0-2.86zM5.41 20L4 18.59l7.72-7.72 1.47 1.35L5.41 20z\"/>\n",
              "  </svg>\n",
              "      </button>\n",
              "      \n",
              "  <style>\n",
              "    .colab-df-container {\n",
              "      display:flex;\n",
              "      flex-wrap:wrap;\n",
              "      gap: 12px;\n",
              "    }\n",
              "\n",
              "    .colab-df-convert {\n",
              "      background-color: #E8F0FE;\n",
              "      border: none;\n",
              "      border-radius: 50%;\n",
              "      cursor: pointer;\n",
              "      display: none;\n",
              "      fill: #1967D2;\n",
              "      height: 32px;\n",
              "      padding: 0 0 0 0;\n",
              "      width: 32px;\n",
              "    }\n",
              "\n",
              "    .colab-df-convert:hover {\n",
              "      background-color: #E2EBFA;\n",
              "      box-shadow: 0px 1px 2px rgba(60, 64, 67, 0.3), 0px 1px 3px 1px rgba(60, 64, 67, 0.15);\n",
              "      fill: #174EA6;\n",
              "    }\n",
              "\n",
              "    [theme=dark] .colab-df-convert {\n",
              "      background-color: #3B4455;\n",
              "      fill: #D2E3FC;\n",
              "    }\n",
              "\n",
              "    [theme=dark] .colab-df-convert:hover {\n",
              "      background-color: #434B5C;\n",
              "      box-shadow: 0px 1px 3px 1px rgba(0, 0, 0, 0.15);\n",
              "      filter: drop-shadow(0px 1px 2px rgba(0, 0, 0, 0.3));\n",
              "      fill: #FFFFFF;\n",
              "    }\n",
              "  </style>\n",
              "\n",
              "      <script>\n",
              "        const buttonEl =\n",
              "          document.querySelector('#df-4f82a004-523a-41e5-b331-0dc5fe772b92 button.colab-df-convert');\n",
              "        buttonEl.style.display =\n",
              "          google.colab.kernel.accessAllowed ? 'block' : 'none';\n",
              "\n",
              "        async function convertToInteractive(key) {\n",
              "          const element = document.querySelector('#df-4f82a004-523a-41e5-b331-0dc5fe772b92');\n",
              "          const dataTable =\n",
              "            await google.colab.kernel.invokeFunction('convertToInteractive',\n",
              "                                                     [key], {});\n",
              "          if (!dataTable) return;\n",
              "\n",
              "          const docLinkHtml = 'Like what you see? Visit the ' +\n",
              "            '<a target=\"_blank\" href=https://colab.research.google.com/notebooks/data_table.ipynb>data table notebook</a>'\n",
              "            + ' to learn more about interactive tables.';\n",
              "          element.innerHTML = '';\n",
              "          dataTable['output_type'] = 'display_data';\n",
              "          await google.colab.output.renderOutput(dataTable, element);\n",
              "          const docLink = document.createElement('div');\n",
              "          docLink.innerHTML = docLinkHtml;\n",
              "          element.appendChild(docLink);\n",
              "        }\n",
              "      </script>\n",
              "    </div>\n",
              "  </div>\n",
              "  "
            ]
          },
          "metadata": {},
          "execution_count": 65
        }
      ]
    },
    {
      "cell_type": "markdown",
      "source": [
        "Podemos ver que apenas 1 imóvel localizado neste bairro está listado, e portanto, este valor de aluguel diário pode não ser representativo.\n",
        "\n",
        "Abaixo, está representada a distribuição dos imóveis pelas coordenadas de latitude (x) e longitude (y)."
      ],
      "metadata": {
        "id": "6fde6mKZGRkm"
      }
    },
    {
      "cell_type": "code",
      "metadata": {
        "id": "UxVJqJ_3W59I",
        "colab": {
          "base_uri": "https://localhost:8080/",
          "height": 476
        },
        "outputId": "c93be56b-c850-4522-ae90-e4c875c4ef49"
      },
      "source": [
        "# plotar os imóveis pela latitude-longitude\n",
        "df_clean.plot(kind=\"scatter\", x='longitude', y='latitude', alpha=0.4, c=df_clean['price'], s=8,\n",
        "              cmap=plt.get_cmap('jet'), figsize=(12,8));"
      ],
      "execution_count": null,
      "outputs": [
        {
          "output_type": "display_data",
          "data": {
            "text/plain": [
              "<Figure size 864x576 with 2 Axes>"
            ],
            "image/png": "[encoded data removed]"
          },
          "metadata": {
            "needs_background": "light"
          }
        }
      ]
    },
    {
      "cell_type": "markdown",
      "metadata": {
        "id": "vTneAMRUYvr1"
      },
      "source": [
        "### **Q10. Qual é a média do mínimo de noites para aluguel (minimum_nights)?**\n",
        "\n",
        "O mínimo de noites para aluguel é um pré-requisito especificado pelo dono da propriedade, e indica a quantidade mínima de noites que o cliente deverá pagar para ter acesso à propriedade."
      ]
    },
    {
      "cell_type": "code",
      "metadata": {
        "id": "_VzNhrEgY82N",
        "colab": {
          "base_uri": "https://localhost:8080/"
        },
        "outputId": "2fc88aa6-6fd7-40ab-87e4-d471d4aff1ff"
      },
      "source": [
        "# ver a média da coluna `minimum_nights``\n",
        "df_clean.minimum_nights.mean()"
      ],
      "execution_count": null,
      "outputs": [
        {
          "output_type": "execute_result",
          "data": {
            "text/plain": [
              "3.8542988677367176"
            ]
          },
          "metadata": {},
          "execution_count": 67
        }
      ]
    },
    {
      "cell_type": "markdown",
      "metadata": {
        "id": "GkvAg623RjoR"
      },
      "source": [
        "## Conclusões\n"
      ]
    },
    {
      "cell_type": "markdown",
      "metadata": {
        "id": "rbZ3Hsy9Ypw8"
      },
      "source": [
        "Através de dados retirados do próprio site da **Airbnb**, foi possível obter alguns dados interessantes sobre a cidade de Santiago, no Chile.\n",
        "\n",
        "Apesar do conjunto de dados possuir alguns *outliers*, algumas considerações podem ser feitas.\n",
        "A primeira é que boa parte dos imóveis (50% deles, segundo este conjunto de dados) podem ser alugados por valores de até 35000 pesos chilenos (o equivalente a 205 reais por dia, na cotação atual), considerando a totalidade dos dados. Caso os *outliers* sejam desconsiderados, este valor cai para 32286 pesos(190 reais).\n",
        "\n",
        "Disponibilidade parece não ser um problema em Santiago, pois 50% dos imóveis encontram-se disponíveis em mais de 300 dias do ano (316, para ser mais preciso).\n",
        "\n",
        "Boa parte dos imóveis (75% deles) requer, no máximo, 3 noites de aluguel como requisito mínimo. Convenhamos que, para alguém esteja a passeio na cidade, 3 dias é um número bastante aceitável.\n",
        "\n",
        "Por fim, devemos levar em consideração que este DataSet é apenas uma versão resumida dos dados disponíveis para Santiago. Na versão mais completa, é possível analisar 106 variáveis no total, o que seria ideal para uma análise mais aprofundada."
      ]
    },
    {
      "cell_type": "code",
      "source": [
        ""
      ],
      "metadata": {
        "id": "ZPe5S4BUQvz1"
      },
      "execution_count": null,
      "outputs": []
    }
  ]
}